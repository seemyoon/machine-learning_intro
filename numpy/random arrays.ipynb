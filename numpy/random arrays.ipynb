{
 "cells": [
  {
   "metadata": {},
   "cell_type": "markdown",
   "source": "# Random values",
   "id": "7dcd9ff810328180"
  },
  {
   "metadata": {},
   "cell_type": "markdown",
   "source": "## Specify specific values",
   "id": "f247554a42c5c122"
  },
  {
   "metadata": {
    "ExecuteTime": {
     "end_time": "2025-02-26T01:36:06.372892Z",
     "start_time": "2025-02-26T01:36:06.367910Z"
    }
   },
   "cell_type": "code",
   "source": [
    "import numpy as np\n",
    "from numpy.ma.core import negative"
   ],
   "id": "1dd122203f566e9c",
   "outputs": [],
   "execution_count": 79
  },
  {
   "metadata": {
    "ExecuteTime": {
     "end_time": "2025-02-26T01:36:06.433450Z",
     "start_time": "2025-02-26T01:36:06.425791Z"
    }
   },
   "cell_type": "code",
   "source": [
    "#.zeros()\n",
    "zeros_example = np.zeros((3, 5))\n",
    "zeros_example"
   ],
   "id": "299905b8ea850614",
   "outputs": [
    {
     "data": {
      "text/plain": [
       "array([[0., 0., 0., 0., 0.],\n",
       "       [0., 0., 0., 0., 0.],\n",
       "       [0., 0., 0., 0., 0.]])"
      ]
     },
     "execution_count": 80,
     "metadata": {},
     "output_type": "execute_result"
    }
   ],
   "execution_count": 80
  },
  {
   "metadata": {
    "ExecuteTime": {
     "end_time": "2025-02-26T01:36:06.549728Z",
     "start_time": "2025-02-26T01:36:06.540995Z"
    }
   },
   "cell_type": "code",
   "source": [
    "#.ones()\n",
    "ones_example = np.ones((2, 4))\n",
    "ones_example"
   ],
   "id": "101208122d4f01c9",
   "outputs": [
    {
     "data": {
      "text/plain": [
       "array([[1., 1., 1., 1.],\n",
       "       [1., 1., 1., 1.]])"
      ]
     },
     "execution_count": 81,
     "metadata": {},
     "output_type": "execute_result"
    }
   ],
   "execution_count": 81
  },
  {
   "metadata": {},
   "cell_type": "markdown",
   "source": "## Specify random values",
   "id": "8b3e5326af573cf9"
  },
  {
   "metadata": {
    "ExecuteTime": {
     "end_time": "2025-02-26T01:36:06.749489Z",
     "start_time": "2025-02-26T01:36:06.739115Z"
    }
   },
   "cell_type": "code",
   "source": [
    "#.random.random\n",
    "random_random_example = np.random.random((5, 5))\n",
    "random_random_example"
   ],
   "id": "65757ea9753fda9c",
   "outputs": [
    {
     "data": {
      "text/plain": [
       "array([[0.98464131, 0.86980588, 0.2140398 , 0.65005787, 0.84038379],\n",
       "       [0.84573448, 0.70768596, 0.63820231, 0.69977778, 0.24902856],\n",
       "       [0.44551339, 0.8006973 , 0.69380854, 0.1450738 , 0.57183033],\n",
       "       [0.70629307, 0.87898522, 0.73285338, 0.59733697, 0.85067621],\n",
       "       [0.05988868, 0.58902981, 0.56275623, 0.49330573, 0.86310201]])"
      ]
     },
     "execution_count": 82,
     "metadata": {},
     "output_type": "execute_result"
    }
   ],
   "execution_count": 82
  },
  {
   "metadata": {
    "ExecuteTime": {
     "end_time": "2025-02-26T01:36:06.975001Z",
     "start_time": "2025-02-26T01:36:06.964835Z"
    }
   },
   "cell_type": "code",
   "source": [
    "#.random.randint\n",
    "random_randint_example = np.random.randint(2, 10, size=(2, 5))\n",
    "random_randint_example"
   ],
   "id": "f676c52aa9de85c6",
   "outputs": [
    {
     "data": {
      "text/plain": [
       "array([[2, 4, 7, 4, 6],\n",
       "       [3, 3, 3, 3, 7]])"
      ]
     },
     "execution_count": 83,
     "metadata": {},
     "output_type": "execute_result"
    }
   ],
   "execution_count": 83
  },
  {
   "metadata": {
    "ExecuteTime": {
     "end_time": "2025-02-26T01:36:07.195377Z",
     "start_time": "2025-02-26T01:36:07.186649Z"
    }
   },
   "cell_type": "code",
   "source": [
    "#.random.uniform 1 2 dem array\n",
    "random_uniform_example = np.random.uniform(5, 15, size=(3, 7))\n",
    "random_uniform_example"
   ],
   "id": "21249e421bde824e",
   "outputs": [
    {
     "data": {
      "text/plain": [
       "array([[13.40318587,  8.17473109,  9.89396571,  9.31078979, 12.88110576,\n",
       "         7.66685578,  7.38564755],\n",
       "       [ 5.52640218, 13.42835263, 14.88748028,  7.97769908, 11.18863893,\n",
       "         8.95688345, 11.32615457],\n",
       "       [ 6.19558589,  6.61941627,  7.73792596,  5.35675235,  5.63087409,\n",
       "        12.17556013, 12.24099068]])"
      ]
     },
     "execution_count": 84,
     "metadata": {},
     "output_type": "execute_result"
    }
   ],
   "execution_count": 84
  },
  {
   "metadata": {
    "ExecuteTime": {
     "end_time": "2025-02-26T01:36:07.462383Z",
     "start_time": "2025-02-26T01:36:07.451072Z"
    }
   },
   "cell_type": "code",
   "source": [
    "#.random.seed\n",
    "np.random.seed(10)\n",
    "random_seed_example = np.random.uniform(5, 15, size=(3, 7))\n",
    "random_seed_example"
   ],
   "id": "3e5cd19727699bee",
   "outputs": [
    {
     "data": {
      "text/plain": [
       "array([[12.71320643,  5.20751949, 11.33648235, 12.48803883,  9.98507012,\n",
       "         7.24796646,  6.98062865],\n",
       "       [12.60530712,  6.69110837,  5.88339814, 11.85359818, 14.53393346,\n",
       "         5.03948266, 10.12192263],\n",
       "       [13.12620962, 11.12526067, 12.21755317,  7.91876068, 14.17774123,\n",
       "        12.14575783, 10.42544368]])"
      ]
     },
     "execution_count": 85,
     "metadata": {},
     "output_type": "execute_result"
    }
   ],
   "execution_count": 85
  },
  {
   "metadata": {
    "ExecuteTime": {
     "end_time": "2025-02-26T01:36:07.724491Z",
     "start_time": "2025-02-26T01:36:07.716630Z"
    }
   },
   "cell_type": "code",
   "source": [
    "#.random.seed proof, if we have the same value in the seed()\n",
    "np.random.seed(10)\n",
    "random_seed_example2 = np.random.uniform(5, 15, size=(3, 7))\n",
    "random_seed_example2"
   ],
   "id": "c919aefeed887aa0",
   "outputs": [
    {
     "data": {
      "text/plain": [
       "array([[12.71320643,  5.20751949, 11.33648235, 12.48803883,  9.98507012,\n",
       "         7.24796646,  6.98062865],\n",
       "       [12.60530712,  6.69110837,  5.88339814, 11.85359818, 14.53393346,\n",
       "         5.03948266, 10.12192263],\n",
       "       [13.12620962, 11.12526067, 12.21755317,  7.91876068, 14.17774123,\n",
       "        12.14575783, 10.42544368]])"
      ]
     },
     "execution_count": 86,
     "metadata": {},
     "output_type": "execute_result"
    }
   ],
   "execution_count": 86
  },
  {
   "metadata": {
    "ExecuteTime": {
     "end_time": "2025-02-26T01:36:07.949541Z",
     "start_time": "2025-02-26T01:36:07.941199Z"
    }
   },
   "cell_type": "code",
   "source": [
    "#.random.seed\n",
    "np.random.seed(9)\n",
    "random_seed_example3 = np.random.uniform(5, 15, size=(3, 7))\n",
    "random_seed_example3"
   ],
   "id": "85883492e476db79",
   "outputs": [
    {
     "data": {
      "text/plain": [
       "array([[ 5.10374154, 10.01874592,  9.95773293,  6.33829529,  6.42111085,\n",
       "         7.18558676,  9.18508181],\n",
       "       [ 7.48101168,  5.84059651,  8.4549864 ,  6.66776347, 13.78559086,\n",
       "        14.50964032,  5.38748376],\n",
       "       [11.99107391, 10.72759816, 13.98007118, 11.66898973, 10.47837783,\n",
       "        12.02427424,  8.8647717 ]])"
      ]
     },
     "execution_count": 87,
     "metadata": {},
     "output_type": "execute_result"
    }
   ],
   "execution_count": 87
  },
  {
   "metadata": {},
   "cell_type": "markdown",
   "source": "# arrange/ reshape/ flatten\n",
   "id": "142bed68d8fc6961"
  },
  {
   "metadata": {
    "ExecuteTime": {
     "end_time": "2025-02-26T01:36:08.326769Z",
     "start_time": "2025-02-26T01:36:08.319498Z"
    }
   },
   "cell_type": "code",
   "source": [
    "#.arange\n",
    "arange_example1 = np.arange(5)\n",
    "arange_example1"
   ],
   "id": "cafe9ff4e2988251",
   "outputs": [
    {
     "data": {
      "text/plain": [
       "array([0, 1, 2, 3, 4])"
      ]
     },
     "execution_count": 88,
     "metadata": {},
     "output_type": "execute_result"
    }
   ],
   "execution_count": 88
  },
  {
   "metadata": {
    "ExecuteTime": {
     "end_time": "2025-02-26T01:36:08.668513Z",
     "start_time": "2025-02-26T01:36:08.659630Z"
    }
   },
   "cell_type": "code",
   "source": [
    "arange_example2 = np.arange(5, 10)\n",
    "arange_example2"
   ],
   "id": "8411fa9a1af87c1",
   "outputs": [
    {
     "data": {
      "text/plain": [
       "array([5, 6, 7, 8, 9])"
      ]
     },
     "execution_count": 89,
     "metadata": {},
     "output_type": "execute_result"
    }
   ],
   "execution_count": 89
  },
  {
   "metadata": {
    "ExecuteTime": {
     "end_time": "2025-02-26T01:36:08.839351Z",
     "start_time": "2025-02-26T01:36:08.831964Z"
    }
   },
   "cell_type": "code",
   "source": [
    "arange_example3 = np.arange(7, 21, 3)\n",
    "arange_example3"
   ],
   "id": "90416c070e32a668",
   "outputs": [
    {
     "data": {
      "text/plain": [
       "array([ 7, 10, 13, 16, 19])"
      ]
     },
     "execution_count": 90,
     "metadata": {},
     "output_type": "execute_result"
    }
   ],
   "execution_count": 90
  },
  {
   "metadata": {
    "ExecuteTime": {
     "end_time": "2025-02-26T01:40:14.076640Z",
     "start_time": "2025-02-26T01:40:14.069139Z"
    }
   },
   "cell_type": "code",
   "source": [
    "negative_arange = np.arange(-5, 14, 2)\n",
    "negative_arange"
   ],
   "id": "36fc45cbc9343",
   "outputs": [
    {
     "data": {
      "text/plain": [
       "array([-5, -3, -1,  1,  3,  5,  7,  9, 11, 13])"
      ]
     },
     "execution_count": 98,
     "metadata": {},
     "output_type": "execute_result"
    }
   ],
   "execution_count": 98
  },
  {
   "metadata": {
    "ExecuteTime": {
     "end_time": "2025-02-26T01:36:09.040922Z",
     "start_time": "2025-02-26T01:36:09.032543Z"
    }
   },
   "cell_type": "code",
   "source": [
    "#.reshape\n",
    "np.arange(30).reshape([3, 2, 5])"
   ],
   "id": "f34dc20f8f9b0d1e",
   "outputs": [
    {
     "data": {
      "text/plain": [
       "array([[[ 0,  1,  2,  3,  4],\n",
       "        [ 5,  6,  7,  8,  9]],\n",
       "\n",
       "       [[10, 11, 12, 13, 14],\n",
       "        [15, 16, 17, 18, 19]],\n",
       "\n",
       "       [[20, 21, 22, 23, 24],\n",
       "        [25, 26, 27, 28, 29]]])"
      ]
     },
     "execution_count": 91,
     "metadata": {},
     "output_type": "execute_result"
    }
   ],
   "execution_count": 91
  },
  {
   "metadata": {
    "ExecuteTime": {
     "end_time": "2025-02-26T01:36:09.147292Z",
     "start_time": "2025-02-26T01:36:09.139796Z"
    }
   },
   "cell_type": "code",
   "source": "np.array([2, 1, 545, 64, 153, 1]).reshape([2, 3])",
   "id": "c1545b13eafb90c8",
   "outputs": [
    {
     "data": {
      "text/plain": [
       "array([[  2,   1, 545],\n",
       "       [ 64, 153,   1]])"
      ]
     },
     "execution_count": 92,
     "metadata": {},
     "output_type": "execute_result"
    }
   ],
   "execution_count": 92
  },
  {
   "metadata": {
    "ExecuteTime": {
     "end_time": "2025-02-26T01:51:17.286773Z",
     "start_time": "2025-02-26T01:51:17.282903Z"
    }
   },
   "cell_type": "code",
   "source": [
    "np.random.seed(2)\n",
    "reshape_reshape_example = np.random.random([4, 4, 3]).reshape([2,24]).reshape([48, 1])\n",
    "print(reshape_reshape_example)"
   ],
   "id": "b7dcabf8bd975fa",
   "outputs": [
    {
     "name": "stdout",
     "output_type": "stream",
     "text": [
      "[[0.4359949 ]\n",
      " [0.02592623]\n",
      " [0.54966248]\n",
      " [0.43532239]\n",
      " [0.4203678 ]\n",
      " [0.33033482]\n",
      " [0.20464863]\n",
      " [0.61927097]\n",
      " [0.29965467]\n",
      " [0.26682728]\n",
      " [0.62113383]\n",
      " [0.52914209]\n",
      " [0.13457995]\n",
      " [0.51357812]\n",
      " [0.18443987]\n",
      " [0.78533515]\n",
      " [0.85397529]\n",
      " [0.49423684]\n",
      " [0.84656149]\n",
      " [0.07964548]\n",
      " [0.50524609]\n",
      " [0.0652865 ]\n",
      " [0.42812233]\n",
      " [0.09653092]\n",
      " [0.12715997]\n",
      " [0.59674531]\n",
      " [0.226012  ]\n",
      " [0.10694568]\n",
      " [0.22030621]\n",
      " [0.34982629]\n",
      " [0.46778748]\n",
      " [0.20174323]\n",
      " [0.64040673]\n",
      " [0.48306984]\n",
      " [0.50523672]\n",
      " [0.38689265]\n",
      " [0.79363745]\n",
      " [0.58000418]\n",
      " [0.1622986 ]\n",
      " [0.70075235]\n",
      " [0.96455108]\n",
      " [0.50000836]\n",
      " [0.88952006]\n",
      " [0.34161365]\n",
      " [0.56714413]\n",
      " [0.42754596]\n",
      " [0.43674726]\n",
      " [0.77655918]]\n"
     ]
    }
   ],
   "execution_count": 108
  },
  {
   "metadata": {
    "ExecuteTime": {
     "end_time": "2025-02-26T01:36:09.304021Z",
     "start_time": "2025-02-26T01:36:09.296457Z"
    }
   },
   "cell_type": "code",
   "source": [
    "check_type = np.arange(20)\n",
    "type(check_type)"
   ],
   "id": "da0d364cba625faf",
   "outputs": [
    {
     "data": {
      "text/plain": [
       "numpy.ndarray"
      ]
     },
     "execution_count": 93,
     "metadata": {},
     "output_type": "execute_result"
    }
   ],
   "execution_count": 93
  },
  {
   "metadata": {
    "ExecuteTime": {
     "end_time": "2025-02-26T01:37:44.046726Z",
     "start_time": "2025-02-26T01:37:44.038750Z"
    }
   },
   "cell_type": "code",
   "source": "np.arange(60).reshape([5, 3, 4])",
   "id": "1ce6f3cc62360d23",
   "outputs": [
    {
     "data": {
      "text/plain": [
       "array([[[ 0,  1,  2,  3],\n",
       "        [ 4,  5,  6,  7],\n",
       "        [ 8,  9, 10, 11]],\n",
       "\n",
       "       [[12, 13, 14, 15],\n",
       "        [16, 17, 18, 19],\n",
       "        [20, 21, 22, 23]],\n",
       "\n",
       "       [[24, 25, 26, 27],\n",
       "        [28, 29, 30, 31],\n",
       "        [32, 33, 34, 35]],\n",
       "\n",
       "       [[36, 37, 38, 39],\n",
       "        [40, 41, 42, 43],\n",
       "        [44, 45, 46, 47]],\n",
       "\n",
       "       [[48, 49, 50, 51],\n",
       "        [52, 53, 54, 55],\n",
       "        [56, 57, 58, 59]]])"
      ]
     },
     "execution_count": 95,
     "metadata": {},
     "output_type": "execute_result"
    }
   ],
   "execution_count": 95
  },
  {
   "metadata": {
    "ExecuteTime": {
     "end_time": "2025-02-26T01:36:09.472143Z",
     "start_time": "2025-02-26T01:36:09.463187Z"
    }
   },
   "cell_type": "code",
   "source": [
    "#.flatten\n",
    "three_dimension_array = np.random.random((2, 5, 10))\n",
    "single_dimension_array = np.round(three_dimension_array.flatten(), 2)\n",
    "single_dimension_array"
   ],
   "id": "c82243fed3b169b5",
   "outputs": [
    {
     "data": {
      "text/plain": [
       "array([0.69, 0.82, 0.47, 0.94, 0.8 , 0.98, 0.17, 0.52, 0.95, 0.65, 0.86,\n",
       "       0.97, 0.19, 0.24, 0.87, 0.91, 0.76, 0.35, 0.46, 0.61, 0.5 , 0.48,\n",
       "       0.44, 0.87, 0.19, 0.69, 0.7 , 0.93, 0.04, 0.65, 0.64, 0.46, 0.05,\n",
       "       0.04, 0.17, 0.79, 0.16, 0.14, 0.35, 0.48, 0.7 , 0.8 , 0.27, 0.91,\n",
       "       0.02, 0.38, 0.2 , 0.34, 0.44, 0.5 , 0.41, 0.21, 0.22, 0.23, 0.73,\n",
       "       0.42, 0.58, 0.49, 0.43, 0.73, 0.56, 0.3 , 0.97, 0.22, 0.14, 0.61,\n",
       "       0.49, 0.18, 0.11, 0.54, 0.29, 0.1 , 0.49, 0.63, 0.04, 0.5 , 0.08,\n",
       "       0.79, 0.76, 0.26, 0.1 , 0.92, 0.52, 0.13, 0.11, 0.84, 0.55, 0.26,\n",
       "       0.58, 0.31, 0.79, 0.49, 0.97, 0.52, 0.9 , 0.25, 0.52, 0.51, 0.81,\n",
       "       0.07])"
      ]
     },
     "execution_count": 94,
     "metadata": {},
     "output_type": "execute_result"
    }
   ],
   "execution_count": 94
  }
 ],
 "metadata": {
  "kernelspec": {
   "display_name": "Python 3",
   "language": "python",
   "name": "python3"
  },
  "language_info": {
   "codemirror_mode": {
    "name": "ipython",
    "version": 2
   },
   "file_extension": ".py",
   "mimetype": "text/x-python",
   "name": "python",
   "nbconvert_exporter": "python",
   "pygments_lexer": "ipython2",
   "version": "2.7.6"
  }
 },
 "nbformat": 4,
 "nbformat_minor": 5
}
