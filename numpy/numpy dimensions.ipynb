{
 "cells": [
  {
   "cell_type": "code",
   "id": "initial_id",
   "metadata": {
    "collapsed": true,
    "ExecuteTime": {
     "end_time": "2025-02-22T17:20:29.489603Z",
     "start_time": "2025-02-22T17:20:28.559116Z"
    }
   },
   "source": [
    "!pip install numpy\n",
    "import numpy as np"
   ],
   "outputs": [
    {
     "name": "stdout",
     "output_type": "stream",
     "text": [
      "Requirement already satisfied: numpy in /home/semyon/miniconda3/lib/python3.12/site-packages (2.2.3)\r\n"
     ]
    }
   ],
   "execution_count": 6
  },
  {
   "metadata": {
    "ExecuteTime": {
     "end_time": "2025-02-22T17:20:29.517786Z",
     "start_time": "2025-02-22T17:20:29.508678Z"
    }
   },
   "cell_type": "code",
   "source": [
    "nums_array = np.array([1, 2, 3, 4, 5])\n",
    "nums_array"
   ],
   "id": "afef6c9e2ba220f8",
   "outputs": [
    {
     "data": {
      "text/plain": [
       "array([1, 2, 3, 4, 5])"
      ]
     },
     "execution_count": 7,
     "metadata": {},
     "output_type": "execute_result"
    }
   ],
   "execution_count": 7
  },
  {
   "metadata": {
    "ExecuteTime": {
     "end_time": "2025-02-22T17:19:50.473141Z",
     "start_time": "2025-02-22T17:19:50.467617Z"
    }
   },
   "cell_type": "code",
   "outputs": [
    {
     "data": {
      "text/plain": [
       "numpy.ndarray"
      ]
     },
     "execution_count": 5,
     "metadata": {},
     "output_type": "execute_result"
    }
   ],
   "source": "type(nums_array)",
   "id": "6d2f97ce193c130e",
   "execution_count": null
  },
  {
   "metadata": {
    "ExecuteTime": {
     "end_time": "2025-02-22T17:22:22.584995Z",
     "start_time": "2025-02-22T17:22:22.576138Z"
    }
   },
   "cell_type": "code",
   "source": "nums_array[-1]",
   "id": "8eb28bb308473d18",
   "outputs": [
    {
     "data": {
      "text/plain": [
       "np.int64(5)"
      ]
     },
     "execution_count": 8,
     "metadata": {},
     "output_type": "execute_result"
    }
   ],
   "execution_count": 8
  },
  {
   "metadata": {
    "ExecuteTime": {
     "end_time": "2025-02-22T17:23:49.361060Z",
     "start_time": "2025-02-22T17:23:49.351796Z"
    }
   },
   "cell_type": "code",
   "source": "nums_array.shape",
   "id": "10ce81918d62f6ac",
   "outputs": [
    {
     "data": {
      "text/plain": [
       "(5,)"
      ]
     },
     "execution_count": 9,
     "metadata": {},
     "output_type": "execute_result"
    }
   ],
   "execution_count": 9
  },
  {
   "metadata": {
    "ExecuteTime": {
     "end_time": "2025-02-22T17:24:41.278657Z",
     "start_time": "2025-02-22T17:24:41.269099Z"
    }
   },
   "cell_type": "code",
   "source": "nums_array.ndim",
   "id": "2760ce69b0e1c0ff",
   "outputs": [
    {
     "data": {
      "text/plain": [
       "1"
      ]
     },
     "execution_count": 10,
     "metadata": {},
     "output_type": "execute_result"
    }
   ],
   "execution_count": 10
  },
  {
   "metadata": {
    "ExecuteTime": {
     "end_time": "2025-02-22T17:25:41.777707Z",
     "start_time": "2025-02-22T17:25:41.768300Z"
    }
   },
   "cell_type": "code",
   "source": "nums_array.itemsize",
   "id": "f879e0212e9f1ac9",
   "outputs": [
    {
     "data": {
      "text/plain": [
       "8"
      ]
     },
     "execution_count": 12,
     "metadata": {},
     "output_type": "execute_result"
    }
   ],
   "execution_count": 12
  },
  {
   "metadata": {
    "ExecuteTime": {
     "end_time": "2025-02-22T17:25:32.326040Z",
     "start_time": "2025-02-22T17:25:32.317093Z"
    }
   },
   "cell_type": "code",
   "source": "nums_array.size",
   "id": "adff26556af39cfa",
   "outputs": [
    {
     "data": {
      "text/plain": [
       "5"
      ]
     },
     "execution_count": 11,
     "metadata": {},
     "output_type": "execute_result"
    }
   ],
   "execution_count": 11
  },
  {
   "metadata": {
    "ExecuteTime": {
     "end_time": "2025-02-22T17:27:52.893132Z",
     "start_time": "2025-02-22T17:27:52.884348Z"
    }
   },
   "cell_type": "code",
   "source": "nums_array.dtype",
   "id": "3a9bb5229fbbb4c9",
   "outputs": [
    {
     "data": {
      "text/plain": [
       "dtype('int64')"
      ]
     },
     "execution_count": 14,
     "metadata": {},
     "output_type": "execute_result"
    }
   ],
   "execution_count": 14
  },
  {
   "metadata": {
    "ExecuteTime": {
     "end_time": "2025-02-22T17:28:56.113092Z",
     "start_time": "2025-02-22T17:28:56.106051Z"
    }
   },
   "cell_type": "code",
   "source": [
    "some_array = np.array([True, 'banana', 777])\n",
    "some_array"
   ],
   "id": "1d0f6ea687ee0d0d",
   "outputs": [
    {
     "data": {
      "text/plain": [
       "array(['True', 'banana', '777'], dtype='<U21')"
      ]
     },
     "execution_count": 15,
     "metadata": {},
     "output_type": "execute_result"
    }
   ],
   "execution_count": 15
  },
  {
   "metadata": {
    "ExecuteTime": {
     "end_time": "2025-02-22T17:29:20.823605Z",
     "start_time": "2025-02-22T17:29:20.815403Z"
    }
   },
   "cell_type": "code",
   "source": "some_array.dtype",
   "id": "43ebd4e824a1325",
   "outputs": [
    {
     "data": {
      "text/plain": [
       "dtype('<U21')"
      ]
     },
     "execution_count": 16,
     "metadata": {},
     "output_type": "execute_result"
    }
   ],
   "execution_count": 16
  },
  {
   "metadata": {},
   "cell_type": "markdown",
   "source": "## Dimensional Arrays\n",
   "id": "e67db9afb34fb128"
  },
  {
   "metadata": {
    "ExecuteTime": {
     "end_time": "2025-02-22T17:47:23.657152Z",
     "start_time": "2025-02-22T17:47:23.653121Z"
    }
   },
   "cell_type": "code",
   "source": [
    "first_array = np.array([[43, 32, 323], [44, 35, 226]])\n",
    "second_array = np.array([[10, 297, 233], [4, 5784, 4446]])\n",
    "\n",
    "# print(first_array)\n",
    "# print(second_array)"
   ],
   "id": "4f8c0b688578f078",
   "outputs": [],
   "execution_count": 25
  },
  {
   "metadata": {
    "ExecuteTime": {
     "end_time": "2025-02-22T17:46:01.945203Z",
     "start_time": "2025-02-22T17:46:01.936783Z"
    }
   },
   "cell_type": "code",
   "source": "first_array.shape",
   "id": "11e11467b467cf53",
   "outputs": [
    {
     "data": {
      "text/plain": [
       "(2, 3)"
      ]
     },
     "execution_count": 23,
     "metadata": {},
     "output_type": "execute_result"
    }
   ],
   "execution_count": 23
  },
  {
   "metadata": {
    "ExecuteTime": {
     "end_time": "2025-02-22T17:47:54.680422Z",
     "start_time": "2025-02-22T17:47:54.671256Z"
    }
   },
   "cell_type": "code",
   "source": "first_array[1, 0]",
   "id": "f07f84bfc2ae5005",
   "outputs": [
    {
     "data": {
      "text/plain": [
       "np.int64(44)"
      ]
     },
     "execution_count": 27,
     "metadata": {},
     "output_type": "execute_result"
    }
   ],
   "execution_count": 27
  },
  {
   "metadata": {},
   "cell_type": "markdown",
   "source": "### Arithmetic operations with numpy arrays\n",
   "id": "c1b4bf76019afc27"
  },
  {
   "metadata": {
    "ExecuteTime": {
     "end_time": "2025-02-22T17:49:27.447449Z",
     "start_time": "2025-02-22T17:49:27.438665Z"
    }
   },
   "cell_type": "code",
   "source": [
    "# +\n",
    "first_array + second_array"
   ],
   "id": "9af5ac7feffc02d0",
   "outputs": [
    {
     "data": {
      "text/plain": [
       "array([[  53,  329,  556],\n",
       "       [  48, 5819, 4672]])"
      ]
     },
     "execution_count": 28,
     "metadata": {},
     "output_type": "execute_result"
    }
   ],
   "execution_count": 28
  },
  {
   "metadata": {
    "ExecuteTime": {
     "end_time": "2025-02-22T17:50:04.070074Z",
     "start_time": "2025-02-22T17:50:04.061356Z"
    }
   },
   "cell_type": "code",
   "source": [
    "# + 1\n",
    "first_array + 1"
   ],
   "id": "de346bf6986be94b",
   "outputs": [
    {
     "data": {
      "text/plain": [
       "array([[ 44,  33, 324],\n",
       "       [ 45,  36, 227]])"
      ]
     },
     "execution_count": 29,
     "metadata": {},
     "output_type": "execute_result"
    }
   ],
   "execution_count": 29
  },
  {
   "metadata": {
    "ExecuteTime": {
     "end_time": "2025-02-22T17:50:46.327494Z",
     "start_time": "2025-02-22T17:50:46.318373Z"
    }
   },
   "cell_type": "code",
   "source": [
    "# /\n",
    "first_array / second_array"
   ],
   "id": "638d84e6946d8eae",
   "outputs": [
    {
     "data": {
      "text/plain": [
       "array([[4.30000000e+00, 1.07744108e-01, 1.38626609e+00],\n",
       "       [1.10000000e+01, 6.05117566e-03, 5.08322087e-02]])"
      ]
     },
     "execution_count": 30,
     "metadata": {},
     "output_type": "execute_result"
    }
   ],
   "execution_count": 30
  },
  {
   "metadata": {
    "ExecuteTime": {
     "end_time": "2025-02-22T17:51:18.427475Z",
     "start_time": "2025-02-22T17:51:18.416839Z"
    }
   },
   "cell_type": "code",
   "source": [
    "# -\n",
    "first_array - 1"
   ],
   "id": "c7968717173a81bd",
   "outputs": [
    {
     "data": {
      "text/plain": [
       "array([[ 42,  31, 322],\n",
       "       [ 43,  34, 225]])"
      ]
     },
     "execution_count": 31,
     "metadata": {},
     "output_type": "execute_result"
    }
   ],
   "execution_count": 31
  },
  {
   "metadata": {
    "ExecuteTime": {
     "end_time": "2025-02-22T17:51:50.249964Z",
     "start_time": "2025-02-22T17:51:50.238731Z"
    }
   },
   "cell_type": "code",
   "source": [
    "# -\n",
    "first_array - second_array"
   ],
   "id": "c745bec9e652b3e2",
   "outputs": [
    {
     "data": {
      "text/plain": [
       "array([[   33,  -265,    90],\n",
       "       [   40, -5749, -4220]])"
      ]
     },
     "execution_count": 32,
     "metadata": {},
     "output_type": "execute_result"
    }
   ],
   "execution_count": 32
  },
  {
   "metadata": {
    "ExecuteTime": {
     "end_time": "2025-02-22T17:52:18.105737Z",
     "start_time": "2025-02-22T17:52:18.098605Z"
    }
   },
   "cell_type": "code",
   "source": [
    "# *\n",
    "first_array * second_array"
   ],
   "id": "1474a43a496e9854",
   "outputs": [
    {
     "data": {
      "text/plain": [
       "array([[    430,    9504,   75259],\n",
       "       [    176,  202440, 1004796]])"
      ]
     },
     "execution_count": 33,
     "metadata": {},
     "output_type": "execute_result"
    }
   ],
   "execution_count": 33
  },
  {
   "metadata": {},
   "cell_type": "markdown",
   "source": [
    "###  Concatenating NumPy Arrays\n",
    "\n"
   ],
   "id": "70fdedc4c3cd2c6b"
  },
  {
   "metadata": {
    "ExecuteTime": {
     "end_time": "2025-02-22T17:54:27.311190Z",
     "start_time": "2025-02-22T17:54:27.303351Z"
    }
   },
   "cell_type": "code",
   "source": "np.concatenate((first_array, second_array))",
   "id": "d87b3cdfbdc0cedf",
   "outputs": [
    {
     "data": {
      "text/plain": [
       "array([[  43,   32,  323],\n",
       "       [  44,   35,  226],\n",
       "       [  10,  297,  233],\n",
       "       [   4, 5784, 4446]])"
      ]
     },
     "execution_count": 34,
     "metadata": {},
     "output_type": "execute_result"
    }
   ],
   "execution_count": 34
  },
  {
   "metadata": {
    "ExecuteTime": {
     "end_time": "2025-02-22T17:56:56.305749Z",
     "start_time": "2025-02-22T17:56:56.294143Z"
    }
   },
   "cell_type": "code",
   "source": "np.concatenate((np.array([4, 5, 6]), np.array([7, 8, 9])))",
   "id": "b34d883a76dcfac9",
   "outputs": [
    {
     "data": {
      "text/plain": [
       "array([4, 5, 6, 7, 8, 9])"
      ]
     },
     "execution_count": 36,
     "metadata": {},
     "output_type": "execute_result"
    }
   ],
   "execution_count": 36
  },
  {
   "metadata": {
    "ExecuteTime": {
     "end_time": "2025-02-22T17:57:22.169743Z",
     "start_time": "2025-02-22T17:57:22.160668Z"
    }
   },
   "cell_type": "code",
   "source": "np.concatenate((first_array, second_array), axis=1)",
   "id": "99ef4b35840ee48f",
   "outputs": [
    {
     "data": {
      "text/plain": [
       "array([[  43,   32,  323,   10,  297,  233],\n",
       "       [  44,   35,  226,    4, 5784, 4446]])"
      ]
     },
     "execution_count": 37,
     "metadata": {},
     "output_type": "execute_result"
    }
   ],
   "execution_count": 37
  }
 ],
 "metadata": {
  "kernelspec": {
   "display_name": "Python 3",
   "language": "python",
   "name": "python3"
  },
  "language_info": {
   "codemirror_mode": {
    "name": "ipython",
    "version": 2
   },
   "file_extension": ".py",
   "mimetype": "text/x-python",
   "name": "python",
   "nbconvert_exporter": "python",
   "pygments_lexer": "ipython2",
   "version": "2.7.6"
  }
 },
 "nbformat": 4,
 "nbformat_minor": 5
}
