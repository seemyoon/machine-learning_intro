{
 "cells": [
  {
   "metadata": {},
   "cell_type": "markdown",
   "source": "## Example 1. Calculating Total Revenue\n",
   "id": "e1046ce3cb689c0e"
  },
  {
   "metadata": {
    "ExecuteTime": {
     "end_time": "2025-03-03T02:28:41.101539Z",
     "start_time": "2025-03-03T02:28:39.753879Z"
    }
   },
   "cell_type": "code",
   "source": [
    "\n",
    "!pip install numpy\n",
    "import numpy as np"
   ],
   "id": "4ea1c567cf0a63a0",
   "outputs": [
    {
     "name": "stdout",
     "output_type": "stream",
     "text": [
      "Requirement already satisfied: numpy in /home/semyon/miniconda3/lib/python3.12/site-packages (2.2.3)\r\n"
     ]
    }
   ],
   "execution_count": 2
  },
  {
   "metadata": {
    "ExecuteTime": {
     "end_time": "2025-03-03T02:28:41.156063Z",
     "start_time": "2025-03-03T02:28:41.137700Z"
    }
   },
   "cell_type": "code",
   "source": [
    "prices = np.array([20.99, 21, 99, 58.99, 15.99, 85.99])\n",
    "prices"
   ],
   "id": "94856ae2ba68ef20",
   "outputs": [
    {
     "data": {
      "text/plain": [
       "array([20.99, 21.  , 99.  , 58.99, 15.99, 85.99])"
      ]
     },
     "execution_count": 3,
     "metadata": {},
     "output_type": "execute_result"
    }
   ],
   "execution_count": 3
  },
  {
   "metadata": {
    "ExecuteTime": {
     "end_time": "2025-03-03T02:28:41.264898Z",
     "start_time": "2025-03-03T02:28:41.257299Z"
    }
   },
   "cell_type": "code",
   "source": [
    "quantities = np.array([15, 17, 20, 8, 7, 1])\n",
    "quantities"
   ],
   "id": "19d6d73035971ea",
   "outputs": [
    {
     "data": {
      "text/plain": [
       "array([15, 17, 20,  8,  7,  1])"
      ]
     },
     "execution_count": 4,
     "metadata": {},
     "output_type": "execute_result"
    }
   ],
   "execution_count": 4
  },
  {
   "metadata": {
    "ExecuteTime": {
     "end_time": "2025-03-03T02:28:41.349801Z",
     "start_time": "2025-03-03T02:28:41.341754Z"
    }
   },
   "cell_type": "code",
   "source": [
    "prices_with_quantities = prices * quantities\n",
    "prices_with_quantities"
   ],
   "id": "9f5b1d6370c87a9",
   "outputs": [
    {
     "data": {
      "text/plain": [
       "array([ 314.85,  357.  , 1980.  ,  471.92,  111.93,   85.99])"
      ]
     },
     "execution_count": 5,
     "metadata": {},
     "output_type": "execute_result"
    }
   ],
   "execution_count": 5
  },
  {
   "metadata": {
    "ExecuteTime": {
     "end_time": "2025-03-03T02:28:41.418970Z",
     "start_time": "2025-03-03T02:28:41.411247Z"
    }
   },
   "cell_type": "code",
   "source": [
    "total_revenue = np.sum(prices_with_quantities)\n",
    "total_revenue"
   ],
   "id": "7300b3f450b969c1",
   "outputs": [
    {
     "data": {
      "text/plain": [
       "np.float64(3321.6899999999996)"
      ]
     },
     "execution_count": 6,
     "metadata": {},
     "output_type": "execute_result"
    }
   ],
   "execution_count": 6
  },
  {
   "metadata": {},
   "cell_type": "markdown",
   "source": "## Example 2. Analyzing Blog Post Stats",
   "id": "d9dd84f6cec27aca"
  },
  {
   "metadata": {
    "ExecuteTime": {
     "end_time": "2025-03-03T02:28:41.532695Z",
     "start_time": "2025-03-03T02:28:41.524624Z"
    }
   },
   "cell_type": "code",
   "source": [
    "views = np.array([800, 1000, 850, 900, 700, 2000])\n",
    "views"
   ],
   "id": "a6e69449600d8da2",
   "outputs": [
    {
     "data": {
      "text/plain": [
       "array([ 800, 1000,  850,  900,  700, 2000])"
      ]
     },
     "execution_count": 7,
     "metadata": {},
     "output_type": "execute_result"
    }
   ],
   "execution_count": 7
  },
  {
   "metadata": {
    "ExecuteTime": {
     "end_time": "2025-03-03T02:28:41.636710Z",
     "start_time": "2025-03-03T02:28:41.629246Z"
    }
   },
   "cell_type": "code",
   "source": [
    "max_views = np.max(views)\n",
    "max_views"
   ],
   "id": "5f56ff40ff3378ca",
   "outputs": [
    {
     "data": {
      "text/plain": [
       "np.int64(2000)"
      ]
     },
     "execution_count": 8,
     "metadata": {},
     "output_type": "execute_result"
    }
   ],
   "execution_count": 8
  },
  {
   "metadata": {
    "ExecuteTime": {
     "end_time": "2025-03-03T02:28:41.798486Z",
     "start_time": "2025-03-03T02:28:41.789057Z"
    }
   },
   "cell_type": "code",
   "source": [
    "min_views = np.min(views)\n",
    "min_views"
   ],
   "id": "5a457b1947d479a6",
   "outputs": [
    {
     "data": {
      "text/plain": [
       "np.int64(700)"
      ]
     },
     "execution_count": 9,
     "metadata": {},
     "output_type": "execute_result"
    }
   ],
   "execution_count": 9
  },
  {
   "metadata": {
    "ExecuteTime": {
     "end_time": "2025-03-03T02:28:41.907856Z",
     "start_time": "2025-03-03T02:28:41.901853Z"
    }
   },
   "cell_type": "code",
   "source": [
    "average_views = np.round(np.mean(views), 2)\n",
    "average_views"
   ],
   "id": "881224f9f70f095a",
   "outputs": [
    {
     "data": {
      "text/plain": [
       "np.float64(1041.67)"
      ]
     },
     "execution_count": 10,
     "metadata": {},
     "output_type": "execute_result"
    }
   ],
   "execution_count": 10
  },
  {
   "metadata": {
    "ExecuteTime": {
     "end_time": "2025-03-03T02:28:41.973418Z",
     "start_time": "2025-03-03T02:28:41.966168Z"
    }
   },
   "cell_type": "code",
   "source": [
    "total_views = np.sum(views)\n",
    "total_views"
   ],
   "id": "8e944f103f2fb5a4",
   "outputs": [
    {
     "data": {
      "text/plain": [
       "np.int64(6250)"
      ]
     },
     "execution_count": 11,
     "metadata": {},
     "output_type": "execute_result"
    }
   ],
   "execution_count": 11
  },
  {
   "metadata": {},
   "cell_type": "markdown",
   "source": "## Example 3. Splitting Order Into Batches\n",
   "id": "4412d9a981d58172"
  },
  {
   "metadata": {
    "ExecuteTime": {
     "end_time": "2025-03-03T02:28:42.044601Z",
     "start_time": "2025-03-03T02:28:42.035340Z"
    }
   },
   "cell_type": "code",
   "source": [
    "order_ids = np.array([5555, 6666, 7777, 9999, 3333, 2222])\n",
    "order_ids"
   ],
   "id": "643eef3637c539e7",
   "outputs": [
    {
     "data": {
      "text/plain": [
       "array([5555, 6666, 7777, 9999, 3333, 2222])"
      ]
     },
     "execution_count": 12,
     "metadata": {},
     "output_type": "execute_result"
    }
   ],
   "execution_count": 12
  },
  {
   "metadata": {
    "ExecuteTime": {
     "end_time": "2025-03-03T02:28:42.118081Z",
     "start_time": "2025-03-03T02:28:42.107324Z"
    }
   },
   "cell_type": "code",
   "source": [
    "batches = np.split(order_ids, 3)\n",
    "batches"
   ],
   "id": "3e7fe24e0801f6b3",
   "outputs": [
    {
     "data": {
      "text/plain": [
       "[array([5555, 6666]), array([7777, 9999]), array([3333, 2222])]"
      ]
     },
     "execution_count": 13,
     "metadata": {},
     "output_type": "execute_result"
    }
   ],
   "execution_count": 13
  },
  {
   "metadata": {
    "ExecuteTime": {
     "end_time": "2025-03-03T02:28:42.170900Z",
     "start_time": "2025-03-03T02:28:42.166935Z"
    }
   },
   "cell_type": "code",
   "source": [
    "for batche in batches:\n",
    "    print(batche)"
   ],
   "id": "ffbb09e2f899ec56",
   "outputs": [
    {
     "name": "stdout",
     "output_type": "stream",
     "text": [
      "[5555 6666]\n",
      "[7777 9999]\n",
      "[3333 2222]\n"
     ]
    }
   ],
   "execution_count": 14
  },
  {
   "metadata": {},
   "cell_type": "markdown",
   "source": "## Example 4. Categorizing Product Rating",
   "id": "1d73379d93fbd2d6"
  },
  {
   "metadata": {
    "ExecuteTime": {
     "end_time": "2025-03-03T02:28:42.235545Z",
     "start_time": "2025-03-03T02:28:42.227406Z"
    }
   },
   "cell_type": "code",
   "source": [
    "ratings = np.array([4.5, 5.0, 3.0, 4.5, 3.7, 4.8])\n",
    "ratings"
   ],
   "id": "6bd06b8dd907a893",
   "outputs": [
    {
     "data": {
      "text/plain": [
       "array([4.5, 5. , 3. , 4.5, 3.7, 4.8])"
      ]
     },
     "execution_count": 15,
     "metadata": {},
     "output_type": "execute_result"
    }
   ],
   "execution_count": 15
  },
  {
   "metadata": {
    "ExecuteTime": {
     "end_time": "2025-03-03T02:28:42.330914Z",
     "start_time": "2025-03-03T02:28:42.323158Z"
    }
   },
   "cell_type": "code",
   "source": [
    "positive_ratings = ratings[ratings >= 4.0]\n",
    "positive_ratings"
   ],
   "id": "4f3fad46842319b2",
   "outputs": [
    {
     "data": {
      "text/plain": [
       "array([4.5, 5. , 4.5, 4.8])"
      ]
     },
     "execution_count": 16,
     "metadata": {},
     "output_type": "execute_result"
    }
   ],
   "execution_count": 16
  },
  {
   "metadata": {
    "ExecuteTime": {
     "end_time": "2025-03-03T02:28:42.431641Z",
     "start_time": "2025-03-03T02:28:42.424988Z"
    }
   },
   "cell_type": "code",
   "source": [
    "negative_ratings = ratings[ratings < 4.0]\n",
    "negative_ratings"
   ],
   "id": "f429652baf7d065d",
   "outputs": [
    {
     "data": {
      "text/plain": [
       "array([3. , 3.7])"
      ]
     },
     "execution_count": 17,
     "metadata": {},
     "output_type": "execute_result"
    }
   ],
   "execution_count": 17
  },
  {
   "metadata": {},
   "cell_type": "markdown",
   "source": "## Example 5. Calculating Total and Average quantities sold\n",
   "id": "88dc7d96fdd381a9"
  },
  {
   "metadata": {
    "ExecuteTime": {
     "end_time": "2025-03-03T02:28:42.508511Z",
     "start_time": "2025-03-03T02:28:42.501682Z"
    }
   },
   "cell_type": "code",
   "source": [
    "# each column is specific product in the order\n",
    "# each row represents specific order\n",
    "order_quantities = np.array([[12, 5, 4, 1, 5], [8, 8, 15, 12, 3]])\n",
    "order_quantities"
   ],
   "id": "f03eadddcf706357",
   "outputs": [
    {
     "data": {
      "text/plain": [
       "array([[12,  5,  4,  1,  5],\n",
       "       [ 8,  8, 15, 12,  3]])"
      ]
     },
     "execution_count": 18,
     "metadata": {},
     "output_type": "execute_result"
    }
   ],
   "execution_count": 18
  },
  {
   "metadata": {
    "ExecuteTime": {
     "end_time": "2025-03-03T02:28:42.597563Z",
     "start_time": "2025-03-03T02:28:42.589681Z"
    }
   },
   "cell_type": "code",
   "source": [
    "total_order_quantities = np.sum(order_quantities)\n",
    "total_order_quantities"
   ],
   "id": "493458e00f2db4d4",
   "outputs": [
    {
     "data": {
      "text/plain": [
       "np.int64(73)"
      ]
     },
     "execution_count": 19,
     "metadata": {},
     "output_type": "execute_result"
    }
   ],
   "execution_count": 19
  },
  {
   "metadata": {
    "ExecuteTime": {
     "end_time": "2025-03-03T02:28:43.092827Z",
     "start_time": "2025-03-03T02:28:43.088717Z"
    }
   },
   "cell_type": "code",
   "source": [
    "# quantities of the sales in each product\n",
    "total_quantities_sold = np.sum(order_quantities, axis=0)\n",
    "total_quantities_sold"
   ],
   "id": "c9948bf6d7dafc84",
   "outputs": [
    {
     "data": {
      "text/plain": [
       "array([20, 13, 19, 13,  8])"
      ]
     },
     "execution_count": 20,
     "metadata": {},
     "output_type": "execute_result"
    }
   ],
   "execution_count": 20
  },
  {
   "metadata": {
    "ExecuteTime": {
     "end_time": "2025-03-03T02:28:43.144265Z",
     "start_time": "2025-03-03T02:28:43.140052Z"
    }
   },
   "cell_type": "code",
   "source": [
    "# quantities of the sales in each order\n",
    "total_products_per_order = np.sum(order_quantities, axis=1)\n",
    "total_products_per_order"
   ],
   "id": "d5f785cd85f61d81",
   "outputs": [
    {
     "data": {
      "text/plain": [
       "array([27, 46])"
      ]
     },
     "execution_count": 21,
     "metadata": {},
     "output_type": "execute_result"
    }
   ],
   "execution_count": 21
  },
  {
   "metadata": {
    "ExecuteTime": {
     "end_time": "2025-03-03T02:28:43.457419Z",
     "start_time": "2025-03-03T02:28:43.453261Z"
    }
   },
   "cell_type": "code",
   "source": [
    "# average quantities per product\n",
    "average_quantities_sold = np.mean(order_quantities, axis=0)\n",
    "average_quantities_sold"
   ],
   "id": "c78e16f5c82dc8de",
   "outputs": [
    {
     "data": {
      "text/plain": [
       "array([10. ,  6.5,  9.5,  6.5,  4. ])"
      ]
     },
     "execution_count": 22,
     "metadata": {},
     "output_type": "execute_result"
    }
   ],
   "execution_count": 22
  },
  {
   "metadata": {},
   "cell_type": "markdown",
   "source": "## Example 6. Calculating Average product Rating and Maximum rating per Category",
   "id": "e916a12f37d76f55"
  },
  {
   "metadata": {
    "ExecuteTime": {
     "end_time": "2025-03-03T02:28:43.712374Z",
     "start_time": "2025-03-03T02:28:43.708231Z"
    }
   },
   "cell_type": "code",
   "source": [
    "# each row represents specific product\n",
    "# each product is rated in  different categories\n",
    "product_reviews = np.array(\n",
    "    [[4.5, 5.0, 3.0, 4.5, 3.7, 4.8], [1.5, 4.0, 5.0, 4.5, 3.7, 4.8], [2.5, 3.5, 5.0, 5.0, 4.7, 4.9]])\n",
    "product_reviews"
   ],
   "id": "c78ddac38b198579",
   "outputs": [
    {
     "data": {
      "text/plain": [
       "array([[4.5, 5. , 3. , 4.5, 3.7, 4.8],\n",
       "       [1.5, 4. , 5. , 4.5, 3.7, 4.8],\n",
       "       [2.5, 3.5, 5. , 5. , 4.7, 4.9]])"
      ]
     },
     "execution_count": 23,
     "metadata": {},
     "output_type": "execute_result"
    }
   ],
   "execution_count": 23
  },
  {
   "metadata": {
    "ExecuteTime": {
     "end_time": "2025-03-03T02:28:43.797277Z",
     "start_time": "2025-03-03T02:28:43.790778Z"
    }
   },
   "cell_type": "code",
   "source": [
    "average_rating = np.mean(product_reviews, axis=1)\n",
    "average_rating"
   ],
   "id": "f6d901491e7b5247",
   "outputs": [
    {
     "data": {
      "text/plain": [
       "array([4.25      , 3.91666667, 4.26666667])"
      ]
     },
     "execution_count": 24,
     "metadata": {},
     "output_type": "execute_result"
    }
   ],
   "execution_count": 24
  },
  {
   "metadata": {
    "ExecuteTime": {
     "end_time": "2025-03-03T02:28:43.854081Z",
     "start_time": "2025-03-03T02:28:43.846501Z"
    }
   },
   "cell_type": "code",
   "source": [
    "max_rating_per_category = np.max(product_reviews, axis=0)\n",
    "max_rating_per_category"
   ],
   "id": "4f392e3093c15b50",
   "outputs": [
    {
     "data": {
      "text/plain": [
       "array([4.5, 5. , 5. , 5. , 4.7, 4.9])"
      ]
     },
     "execution_count": 25,
     "metadata": {},
     "output_type": "execute_result"
    }
   ],
   "execution_count": 25
  },
  {
   "metadata": {},
   "cell_type": "markdown",
   "source": "## Example 7. Generation of the sample stock data",
   "id": "f67902dd940f3863"
  },
  {
   "metadata": {
    "ExecuteTime": {
     "end_time": "2025-03-03T02:28:44.127526Z",
     "start_time": "2025-03-03T02:28:44.124294Z"
    }
   },
   "cell_type": "code",
   "source": [
    "companies = ['google', 'amazon', 'apple']\n",
    "days = ['Monday, 2 January', 'Tuesday, 2 February']\n",
    "price_types = ['open', 'close', 'high', 'low']"
   ],
   "id": "3346109611819093",
   "outputs": [],
   "execution_count": 26
  },
  {
   "metadata": {
    "ExecuteTime": {
     "end_time": "2025-03-03T02:28:44.179096Z",
     "start_time": "2025-03-03T02:28:44.175077Z"
    }
   },
   "cell_type": "code",
   "source": [
    "np.random.seed(1)\n",
    "stock_prices = np.round(np.random.random((len(companies), len(days), len(price_types))), 3)\n",
    "stock_prices"
   ],
   "id": "7484eca2a1d78cb5",
   "outputs": [
    {
     "data": {
      "text/plain": [
       "array([[[0.417, 0.72 , 0.   , 0.302],\n",
       "        [0.147, 0.092, 0.186, 0.346]],\n",
       "\n",
       "       [[0.397, 0.539, 0.419, 0.685],\n",
       "        [0.204, 0.878, 0.027, 0.67 ]],\n",
       "\n",
       "       [[0.417, 0.559, 0.14 , 0.198],\n",
       "        [0.801, 0.968, 0.313, 0.692]]])"
      ]
     },
     "execution_count": 27,
     "metadata": {},
     "output_type": "execute_result"
    }
   ],
   "execution_count": 27
  },
  {
   "metadata": {
    "ExecuteTime": {
     "end_time": "2025-03-03T02:28:44.353230Z",
     "start_time": "2025-03-03T02:28:44.346433Z"
    }
   },
   "cell_type": "code",
   "source": "stock_prices.shape",
   "id": "454b32dffa2d8cb3",
   "outputs": [
    {
     "data": {
      "text/plain": [
       "(3, 2, 4)"
      ]
     },
     "execution_count": 28,
     "metadata": {},
     "output_type": "execute_result"
    }
   ],
   "execution_count": 28
  },
  {
   "metadata": {
    "ExecuteTime": {
     "end_time": "2025-03-03T02:28:44.631044Z",
     "start_time": "2025-03-03T02:28:44.622017Z"
    }
   },
   "cell_type": "code",
   "source": [
    "for index_axis_0, company in enumerate(companies):\n",
    "    print(f'stock prices for the {company}:')\n",
    "    for index_axis_1, day in enumerate(days):\n",
    "        print(f'day: {day}')\n",
    "        for index_axis_2, price_type in enumerate(price_types):\n",
    "            print(f'{price_type} price: {stock_prices[index_axis_0, index_axis_1, index_axis_2 ]}')\n",
    "        print('')\n",
    "    print('')"
   ],
   "id": "d9cf2cf3fc7fd0d6",
   "outputs": [
    {
     "name": "stdout",
     "output_type": "stream",
     "text": [
      "stock prices for the google:\n",
      "day: Monday, 2 January\n",
      "open price: 0.417\n",
      "close price: 0.72\n",
      "high price: 0.0\n",
      "low price: 0.302\n",
      "\n",
      "day: Tuesday, 2 February\n",
      "open price: 0.147\n",
      "close price: 0.092\n",
      "high price: 0.186\n",
      "low price: 0.346\n",
      "\n",
      "\n",
      "stock prices for the amazon:\n",
      "day: Monday, 2 January\n",
      "open price: 0.397\n",
      "close price: 0.539\n",
      "high price: 0.419\n",
      "low price: 0.685\n",
      "\n",
      "day: Tuesday, 2 February\n",
      "open price: 0.204\n",
      "close price: 0.878\n",
      "high price: 0.027\n",
      "low price: 0.67\n",
      "\n",
      "\n",
      "stock prices for the apple:\n",
      "day: Monday, 2 January\n",
      "open price: 0.417\n",
      "close price: 0.559\n",
      "high price: 0.14\n",
      "low price: 0.198\n",
      "\n",
      "day: Tuesday, 2 February\n",
      "open price: 0.801\n",
      "close price: 0.968\n",
      "high price: 0.313\n",
      "low price: 0.692\n",
      "\n",
      "\n"
     ]
    }
   ],
   "execution_count": 29
  }
 ],
 "metadata": {
  "kernelspec": {
   "display_name": "Python 3",
   "language": "python",
   "name": "python3"
  },
  "language_info": {
   "codemirror_mode": {
    "name": "ipython",
    "version": 2
   },
   "file_extension": ".py",
   "mimetype": "text/x-python",
   "name": "python",
   "nbconvert_exporter": "python",
   "pygments_lexer": "ipython2",
   "version": "2.7.6"
  }
 },
 "nbformat": 4,
 "nbformat_minor": 5
}
