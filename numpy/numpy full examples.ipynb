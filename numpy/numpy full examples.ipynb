{
 "cells": [
  {
   "metadata": {},
   "cell_type": "markdown",
   "source": "## Example 1. Calculating Total Revenue\n",
   "id": "e1046ce3cb689c0e"
  },
  {
   "metadata": {
    "ExecuteTime": {
     "end_time": "2025-03-03T02:25:42.974390Z",
     "start_time": "2025-03-03T02:25:41.668032Z"
    }
   },
   "cell_type": "code",
   "source": [
    "\n",
    "!pip install numpy\n",
    "import numpy as np"
   ],
   "id": "4ea1c567cf0a63a0",
   "outputs": [
    {
     "name": "stdout",
     "output_type": "stream",
     "text": [
      "Requirement already satisfied: numpy in /home/semyon/miniconda3/lib/python3.12/site-packages (2.2.3)\r\n"
     ]
    }
   ],
   "execution_count": 240
  },
  {
   "metadata": {
    "ExecuteTime": {
     "end_time": "2025-03-03T02:25:42.996826Z",
     "start_time": "2025-03-03T02:25:42.987542Z"
    }
   },
   "cell_type": "code",
   "source": [
    "prices = np.array([20.99, 21, 99, 58.99, 15.99, 85.99])\n",
    "prices"
   ],
   "id": "94856ae2ba68ef20",
   "outputs": [
    {
     "data": {
      "text/plain": [
       "array([20.99, 21.  , 99.  , 58.99, 15.99, 85.99])"
      ]
     },
     "execution_count": 241,
     "metadata": {},
     "output_type": "execute_result"
    }
   ],
   "execution_count": 241
  },
  {
   "metadata": {
    "ExecuteTime": {
     "end_time": "2025-03-03T02:25:43.065109Z",
     "start_time": "2025-03-03T02:25:43.054429Z"
    }
   },
   "cell_type": "code",
   "source": [
    "quantities = np.array([15, 17, 20, 8, 7, 1])\n",
    "quantities"
   ],
   "id": "19d6d73035971ea",
   "outputs": [
    {
     "data": {
      "text/plain": [
       "array([15, 17, 20,  8,  7,  1])"
      ]
     },
     "execution_count": 242,
     "metadata": {},
     "output_type": "execute_result"
    }
   ],
   "execution_count": 242
  },
  {
   "metadata": {
    "ExecuteTime": {
     "end_time": "2025-03-03T02:25:43.154538Z",
     "start_time": "2025-03-03T02:25:43.145243Z"
    }
   },
   "cell_type": "code",
   "source": [
    "prices_with_quantities = prices * quantities\n",
    "prices_with_quantities"
   ],
   "id": "9f5b1d6370c87a9",
   "outputs": [
    {
     "data": {
      "text/plain": [
       "array([ 314.85,  357.  , 1980.  ,  471.92,  111.93,   85.99])"
      ]
     },
     "execution_count": 243,
     "metadata": {},
     "output_type": "execute_result"
    }
   ],
   "execution_count": 243
  },
  {
   "metadata": {
    "ExecuteTime": {
     "end_time": "2025-03-03T02:25:43.258313Z",
     "start_time": "2025-03-03T02:25:43.247210Z"
    }
   },
   "cell_type": "code",
   "source": [
    "total_revenue = np.sum(prices_with_quantities)\n",
    "total_revenue"
   ],
   "id": "7300b3f450b969c1",
   "outputs": [
    {
     "data": {
      "text/plain": [
       "np.float64(3321.6899999999996)"
      ]
     },
     "execution_count": 244,
     "metadata": {},
     "output_type": "execute_result"
    }
   ],
   "execution_count": 244
  },
  {
   "metadata": {},
   "cell_type": "markdown",
   "source": "## Example 2. Analyzing Blog Post Stats",
   "id": "d9dd84f6cec27aca"
  },
  {
   "metadata": {
    "ExecuteTime": {
     "end_time": "2025-03-03T02:25:43.352352Z",
     "start_time": "2025-03-03T02:25:43.343059Z"
    }
   },
   "cell_type": "code",
   "source": [
    "views = np.array([800, 1000, 850, 900, 700, 2000])\n",
    "views"
   ],
   "id": "a6e69449600d8da2",
   "outputs": [
    {
     "data": {
      "text/plain": [
       "array([ 800, 1000,  850,  900,  700, 2000])"
      ]
     },
     "execution_count": 245,
     "metadata": {},
     "output_type": "execute_result"
    }
   ],
   "execution_count": 245
  },
  {
   "metadata": {
    "ExecuteTime": {
     "end_time": "2025-03-03T02:25:43.417150Z",
     "start_time": "2025-03-03T02:25:43.408784Z"
    }
   },
   "cell_type": "code",
   "source": [
    "max_views = np.max(views)\n",
    "max_views"
   ],
   "id": "5f56ff40ff3378ca",
   "outputs": [
    {
     "data": {
      "text/plain": [
       "np.int64(2000)"
      ]
     },
     "execution_count": 246,
     "metadata": {},
     "output_type": "execute_result"
    }
   ],
   "execution_count": 246
  },
  {
   "metadata": {
    "ExecuteTime": {
     "end_time": "2025-03-03T02:25:43.479863Z",
     "start_time": "2025-03-03T02:25:43.472631Z"
    }
   },
   "cell_type": "code",
   "source": [
    "min_views = np.min(views)\n",
    "min_views"
   ],
   "id": "5a457b1947d479a6",
   "outputs": [
    {
     "data": {
      "text/plain": [
       "np.int64(700)"
      ]
     },
     "execution_count": 247,
     "metadata": {},
     "output_type": "execute_result"
    }
   ],
   "execution_count": 247
  },
  {
   "metadata": {
    "ExecuteTime": {
     "end_time": "2025-03-03T02:25:43.547233Z",
     "start_time": "2025-03-03T02:25:43.538266Z"
    }
   },
   "cell_type": "code",
   "source": [
    "average_views = np.round(np.mean(views), 2)\n",
    "average_views"
   ],
   "id": "881224f9f70f095a",
   "outputs": [
    {
     "data": {
      "text/plain": [
       "np.float64(1041.67)"
      ]
     },
     "execution_count": 248,
     "metadata": {},
     "output_type": "execute_result"
    }
   ],
   "execution_count": 248
  },
  {
   "metadata": {
    "ExecuteTime": {
     "end_time": "2025-03-03T02:25:43.615549Z",
     "start_time": "2025-03-03T02:25:43.605891Z"
    }
   },
   "cell_type": "code",
   "source": [
    "total_views = np.sum(views)\n",
    "total_views"
   ],
   "id": "8e944f103f2fb5a4",
   "outputs": [
    {
     "data": {
      "text/plain": [
       "np.int64(6250)"
      ]
     },
     "execution_count": 249,
     "metadata": {},
     "output_type": "execute_result"
    }
   ],
   "execution_count": 249
  },
  {
   "metadata": {},
   "cell_type": "markdown",
   "source": "## Example 3. Splitting Order Into Batches\n",
   "id": "4412d9a981d58172"
  },
  {
   "metadata": {
    "ExecuteTime": {
     "end_time": "2025-03-03T02:25:43.685137Z",
     "start_time": "2025-03-03T02:25:43.674861Z"
    }
   },
   "cell_type": "code",
   "source": [
    "order_ids = np.array([5555, 6666, 7777, 9999, 3333, 2222])\n",
    "order_ids"
   ],
   "id": "643eef3637c539e7",
   "outputs": [
    {
     "data": {
      "text/plain": [
       "array([5555, 6666, 7777, 9999, 3333, 2222])"
      ]
     },
     "execution_count": 250,
     "metadata": {},
     "output_type": "execute_result"
    }
   ],
   "execution_count": 250
  },
  {
   "metadata": {
    "ExecuteTime": {
     "end_time": "2025-03-03T02:25:43.809203Z",
     "start_time": "2025-03-03T02:25:43.796887Z"
    }
   },
   "cell_type": "code",
   "source": [
    "batches = np.split(order_ids, 3)\n",
    "batches"
   ],
   "id": "3e7fe24e0801f6b3",
   "outputs": [
    {
     "data": {
      "text/plain": [
       "[array([5555, 6666]), array([7777, 9999]), array([3333, 2222])]"
      ]
     },
     "execution_count": 251,
     "metadata": {},
     "output_type": "execute_result"
    }
   ],
   "execution_count": 251
  },
  {
   "metadata": {
    "ExecuteTime": {
     "end_time": "2025-03-03T02:25:43.955402Z",
     "start_time": "2025-03-03T02:25:43.945552Z"
    }
   },
   "cell_type": "code",
   "source": [
    "for batche in batches:\n",
    "    print(batche)"
   ],
   "id": "ffbb09e2f899ec56",
   "outputs": [
    {
     "name": "stdout",
     "output_type": "stream",
     "text": [
      "[5555 6666]\n",
      "[7777 9999]\n",
      "[3333 2222]\n"
     ]
    }
   ],
   "execution_count": 252
  },
  {
   "metadata": {},
   "cell_type": "markdown",
   "source": "## Example 4. Categorizing Product Rating",
   "id": "1d73379d93fbd2d6"
  },
  {
   "metadata": {
    "ExecuteTime": {
     "end_time": "2025-03-03T02:25:44.050345Z",
     "start_time": "2025-03-03T02:25:44.037320Z"
    }
   },
   "cell_type": "code",
   "source": [
    "ratings = np.array([4.5, 5.0, 3.0, 4.5, 3.7, 4.8])\n",
    "ratings"
   ],
   "id": "6bd06b8dd907a893",
   "outputs": [
    {
     "data": {
      "text/plain": [
       "array([4.5, 5. , 3. , 4.5, 3.7, 4.8])"
      ]
     },
     "execution_count": 253,
     "metadata": {},
     "output_type": "execute_result"
    }
   ],
   "execution_count": 253
  },
  {
   "metadata": {
    "ExecuteTime": {
     "end_time": "2025-03-03T02:25:44.109507Z",
     "start_time": "2025-03-03T02:25:44.103623Z"
    }
   },
   "cell_type": "code",
   "source": [
    "positive_ratings = ratings[ratings >= 4.0]\n",
    "positive_ratings"
   ],
   "id": "4f3fad46842319b2",
   "outputs": [
    {
     "data": {
      "text/plain": [
       "array([4.5, 5. , 4.5, 4.8])"
      ]
     },
     "execution_count": 254,
     "metadata": {},
     "output_type": "execute_result"
    }
   ],
   "execution_count": 254
  },
  {
   "metadata": {
    "ExecuteTime": {
     "end_time": "2025-03-03T02:25:44.182628Z",
     "start_time": "2025-03-03T02:25:44.168981Z"
    }
   },
   "cell_type": "code",
   "source": [
    "negative_ratings = ratings[ratings < 4.0]\n",
    "negative_ratings"
   ],
   "id": "f429652baf7d065d",
   "outputs": [
    {
     "data": {
      "text/plain": [
       "array([3. , 3.7])"
      ]
     },
     "execution_count": 255,
     "metadata": {},
     "output_type": "execute_result"
    }
   ],
   "execution_count": 255
  },
  {
   "metadata": {},
   "cell_type": "markdown",
   "source": "## Example 5. Calculating Total and Average quantities sold\n",
   "id": "88dc7d96fdd381a9"
  },
  {
   "metadata": {
    "ExecuteTime": {
     "end_time": "2025-03-03T02:25:44.285315Z",
     "start_time": "2025-03-03T02:25:44.268907Z"
    }
   },
   "cell_type": "code",
   "source": [
    "# each column is specific product in the order\n",
    "# each row represents specific order\n",
    "order_quantities = np.array([[12, 5, 4, 1, 5], [8, 8, 15, 12, 3]])\n",
    "order_quantities"
   ],
   "id": "f03eadddcf706357",
   "outputs": [
    {
     "data": {
      "text/plain": [
       "array([[12,  5,  4,  1,  5],\n",
       "       [ 8,  8, 15, 12,  3]])"
      ]
     },
     "execution_count": 256,
     "metadata": {},
     "output_type": "execute_result"
    }
   ],
   "execution_count": 256
  },
  {
   "metadata": {
    "ExecuteTime": {
     "end_time": "2025-03-03T02:25:44.478941Z",
     "start_time": "2025-03-03T02:25:44.465795Z"
    }
   },
   "cell_type": "code",
   "source": [
    "total_order_quantities = np.sum(order_quantities)\n",
    "total_order_quantities"
   ],
   "id": "493458e00f2db4d4",
   "outputs": [
    {
     "data": {
      "text/plain": [
       "np.int64(73)"
      ]
     },
     "execution_count": 257,
     "metadata": {},
     "output_type": "execute_result"
    }
   ],
   "execution_count": 257
  },
  {
   "metadata": {
    "ExecuteTime": {
     "end_time": "2025-03-03T02:25:44.575477Z",
     "start_time": "2025-03-03T02:25:44.562571Z"
    }
   },
   "cell_type": "code",
   "source": [
    "# quantities of the sales in each product\n",
    "total_quantities_sold = np.sum(order_quantities, axis=0)\n",
    "total_quantities_sold"
   ],
   "id": "c9948bf6d7dafc84",
   "outputs": [
    {
     "data": {
      "text/plain": [
       "array([20, 13, 19, 13,  8])"
      ]
     },
     "execution_count": 258,
     "metadata": {},
     "output_type": "execute_result"
    }
   ],
   "execution_count": 258
  },
  {
   "metadata": {
    "ExecuteTime": {
     "end_time": "2025-03-03T02:25:44.732331Z",
     "start_time": "2025-03-03T02:25:44.721817Z"
    }
   },
   "cell_type": "code",
   "source": [
    "# quantities of the sales in each order\n",
    "total_products_per_order = np.sum(order_quantities, axis=1)\n",
    "total_products_per_order"
   ],
   "id": "d5f785cd85f61d81",
   "outputs": [
    {
     "data": {
      "text/plain": [
       "array([27, 46])"
      ]
     },
     "execution_count": 259,
     "metadata": {},
     "output_type": "execute_result"
    }
   ],
   "execution_count": 259
  },
  {
   "metadata": {
    "ExecuteTime": {
     "end_time": "2025-03-03T02:25:44.853675Z",
     "start_time": "2025-03-03T02:25:44.844444Z"
    }
   },
   "cell_type": "code",
   "source": [
    "# average quantities per product\n",
    "average_quantities_sold = np.mean(order_quantities, axis=0)\n",
    "average_quantities_sold"
   ],
   "id": "c78e16f5c82dc8de",
   "outputs": [
    {
     "data": {
      "text/plain": [
       "array([10. ,  6.5,  9.5,  6.5,  4. ])"
      ]
     },
     "execution_count": 260,
     "metadata": {},
     "output_type": "execute_result"
    }
   ],
   "execution_count": 260
  },
  {
   "metadata": {},
   "cell_type": "markdown",
   "source": "## Example 6. Calculating Average product Rating and Maximum rating per Category",
   "id": "e916a12f37d76f55"
  },
  {
   "metadata": {
    "ExecuteTime": {
     "end_time": "2025-03-03T02:25:45.013888Z",
     "start_time": "2025-03-03T02:25:45.004767Z"
    }
   },
   "cell_type": "code",
   "source": [
    "# each row represents specific product\n",
    "# each product is rated in  different categories\n",
    "product_reviews = np.array(\n",
    "    [[4.5, 5.0, 3.0, 4.5, 3.7, 4.8], [1.5, 4.0, 5.0, 4.5, 3.7, 4.8], [2.5, 3.5, 5.0, 5.0, 4.7, 4.9]])\n",
    "product_reviews"
   ],
   "id": "c78ddac38b198579",
   "outputs": [
    {
     "data": {
      "text/plain": [
       "array([[4.5, 5. , 3. , 4.5, 3.7, 4.8],\n",
       "       [1.5, 4. , 5. , 4.5, 3.7, 4.8],\n",
       "       [2.5, 3.5, 5. , 5. , 4.7, 4.9]])"
      ]
     },
     "execution_count": 261,
     "metadata": {},
     "output_type": "execute_result"
    }
   ],
   "execution_count": 261
  },
  {
   "metadata": {
    "ExecuteTime": {
     "end_time": "2025-03-03T02:25:45.168681Z",
     "start_time": "2025-03-03T02:25:45.156072Z"
    }
   },
   "cell_type": "code",
   "source": [
    "average_rating = np.mean(product_reviews, axis=1)\n",
    "average_rating"
   ],
   "id": "f6d901491e7b5247",
   "outputs": [
    {
     "data": {
      "text/plain": [
       "array([4.25      , 3.91666667, 4.26666667])"
      ]
     },
     "execution_count": 262,
     "metadata": {},
     "output_type": "execute_result"
    }
   ],
   "execution_count": 262
  },
  {
   "metadata": {
    "ExecuteTime": {
     "end_time": "2025-03-03T02:25:45.304514Z",
     "start_time": "2025-03-03T02:25:45.294495Z"
    }
   },
   "cell_type": "code",
   "source": [
    "max_rating_per_category = np.max(product_reviews, axis=0)\n",
    "max_rating_per_category"
   ],
   "id": "4f392e3093c15b50",
   "outputs": [
    {
     "data": {
      "text/plain": [
       "array([4.5, 5. , 5. , 5. , 4.7, 4.9])"
      ]
     },
     "execution_count": 263,
     "metadata": {},
     "output_type": "execute_result"
    }
   ],
   "execution_count": 263
  },
  {
   "metadata": {},
   "cell_type": "markdown",
   "source": "## Example 7. Generation of the sample stock data",
   "id": "f67902dd940f3863"
  },
  {
   "metadata": {
    "ExecuteTime": {
     "end_time": "2025-03-03T02:25:45.450444Z",
     "start_time": "2025-03-03T02:25:45.443943Z"
    }
   },
   "cell_type": "code",
   "source": [
    "companies = ['google', 'amazon', 'apple']\n",
    "days = ['Monday, 2 January', 'Tuesday, 2 February']\n",
    "price_types = ['open', 'close', 'high', 'low']"
   ],
   "id": "3346109611819093",
   "outputs": [],
   "execution_count": 264
  },
  {
   "metadata": {
    "ExecuteTime": {
     "end_time": "2025-03-03T02:25:45.510658Z",
     "start_time": "2025-03-03T02:25:45.499864Z"
    }
   },
   "cell_type": "code",
   "source": [
    "np.random.seed(1)\n",
    "stock_prices = np.round(np.random.random((len(companies), len(days), len(price_types))), 3)\n",
    "stock_prices"
   ],
   "id": "7484eca2a1d78cb5",
   "outputs": [
    {
     "data": {
      "text/plain": [
       "array([[[0.417, 0.72 , 0.   , 0.302],\n",
       "        [0.147, 0.092, 0.186, 0.346]],\n",
       "\n",
       "       [[0.397, 0.539, 0.419, 0.685],\n",
       "        [0.204, 0.878, 0.027, 0.67 ]],\n",
       "\n",
       "       [[0.417, 0.559, 0.14 , 0.198],\n",
       "        [0.801, 0.968, 0.313, 0.692]]])"
      ]
     },
     "execution_count": 265,
     "metadata": {},
     "output_type": "execute_result"
    }
   ],
   "execution_count": 265
  },
  {
   "metadata": {
    "ExecuteTime": {
     "end_time": "2025-03-03T02:25:45.634286Z",
     "start_time": "2025-03-03T02:25:45.624688Z"
    }
   },
   "cell_type": "code",
   "source": "stock_prices.shape",
   "id": "454b32dffa2d8cb3",
   "outputs": [
    {
     "data": {
      "text/plain": [
       "(3, 2, 4)"
      ]
     },
     "execution_count": 266,
     "metadata": {},
     "output_type": "execute_result"
    }
   ],
   "execution_count": 266
  },
  {
   "metadata": {
    "ExecuteTime": {
     "end_time": "2025-03-03T02:25:45.814592Z",
     "start_time": "2025-03-03T02:25:45.803340Z"
    }
   },
   "cell_type": "code",
   "source": [
    "for index_axis_0, company in enumerate(companies):\n",
    "    print(f'index_axis_0 is {index_axis_0} ')\n",
    "    print(f'stock prices for the {company}:')\n",
    "    for index_axis_1, day in enumerate(days):\n",
    "        print(f'index_axis_1 is {index_axis_1} ')\n",
    "        print(f'day: {day}')\n",
    "        for index_axis_2, price_type in enumerate(price_types):\n",
    "            print(f'index_axis_2 is {index_axis_2} ')\n",
    "            print(f'{price_type} price: {stock_prices[index_axis_0, index_axis_1, index_axis_2 ]}')\n",
    "        print('')\n",
    "    print('')"
   ],
   "id": "d9cf2cf3fc7fd0d6",
   "outputs": [
    {
     "name": "stdout",
     "output_type": "stream",
     "text": [
      "index_axis_0 is 0 \n",
      "stock prices for the google:\n",
      "index_axis_1 is 0 \n",
      "day: Monday, 2 January\n",
      "index_axis_2 is 0 \n",
      "open price: 0.417\n",
      "index_axis_2 is 1 \n",
      "close price: 0.72\n",
      "index_axis_2 is 2 \n",
      "high price: 0.0\n",
      "index_axis_2 is 3 \n",
      "low price: 0.302\n",
      "\n",
      "index_axis_1 is 1 \n",
      "day: Tuesday, 2 February\n",
      "index_axis_2 is 0 \n",
      "open price: 0.147\n",
      "index_axis_2 is 1 \n",
      "close price: 0.092\n",
      "index_axis_2 is 2 \n",
      "high price: 0.186\n",
      "index_axis_2 is 3 \n",
      "low price: 0.346\n",
      "\n",
      "\n",
      "index_axis_0 is 1 \n",
      "stock prices for the amazon:\n",
      "index_axis_1 is 0 \n",
      "day: Monday, 2 January\n",
      "index_axis_2 is 0 \n",
      "open price: 0.397\n",
      "index_axis_2 is 1 \n",
      "close price: 0.539\n",
      "index_axis_2 is 2 \n",
      "high price: 0.419\n",
      "index_axis_2 is 3 \n",
      "low price: 0.685\n",
      "\n",
      "index_axis_1 is 1 \n",
      "day: Tuesday, 2 February\n",
      "index_axis_2 is 0 \n",
      "open price: 0.204\n",
      "index_axis_2 is 1 \n",
      "close price: 0.878\n",
      "index_axis_2 is 2 \n",
      "high price: 0.027\n",
      "index_axis_2 is 3 \n",
      "low price: 0.67\n",
      "\n",
      "\n",
      "index_axis_0 is 2 \n",
      "stock prices for the apple:\n",
      "index_axis_1 is 0 \n",
      "day: Monday, 2 January\n",
      "index_axis_2 is 0 \n",
      "open price: 0.417\n",
      "index_axis_2 is 1 \n",
      "close price: 0.559\n",
      "index_axis_2 is 2 \n",
      "high price: 0.14\n",
      "index_axis_2 is 3 \n",
      "low price: 0.198\n",
      "\n",
      "index_axis_1 is 1 \n",
      "day: Tuesday, 2 February\n",
      "index_axis_2 is 0 \n",
      "open price: 0.801\n",
      "index_axis_2 is 1 \n",
      "close price: 0.968\n",
      "index_axis_2 is 2 \n",
      "high price: 0.313\n",
      "index_axis_2 is 3 \n",
      "low price: 0.692\n",
      "\n",
      "\n"
     ]
    }
   ],
   "execution_count": 267
  }
 ],
 "metadata": {
  "kernelspec": {
   "display_name": "Python 3",
   "language": "python",
   "name": "python3"
  },
  "language_info": {
   "codemirror_mode": {
    "name": "ipython",
    "version": 2
   },
   "file_extension": ".py",
   "mimetype": "text/x-python",
   "name": "python",
   "nbconvert_exporter": "python",
   "pygments_lexer": "ipython2",
   "version": "2.7.6"
  }
 },
 "nbformat": 4,
 "nbformat_minor": 5
}
