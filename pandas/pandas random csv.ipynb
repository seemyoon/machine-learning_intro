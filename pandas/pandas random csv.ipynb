{
 "cells": [
  {
   "metadata": {
    "ExecuteTime": {
     "end_time": "2025-03-04T01:48:26.738310Z",
     "start_time": "2025-03-04T01:48:26.148348Z"
    }
   },
   "cell_type": "code",
   "source": "!pip install openpyxl matplotlib",
   "id": "f7bf66abf56304aa",
   "outputs": [
    {
     "name": "stdout",
     "output_type": "stream",
     "text": [
      "Requirement already satisfied: openpyxl in /home/semyon/miniconda3/lib/python3.12/site-packages (3.1.5)\r\n",
      "Requirement already satisfied: matplotlib in /home/semyon/miniconda3/lib/python3.12/site-packages (3.10.0)\r\n",
      "Requirement already satisfied: et-xmlfile in /home/semyon/miniconda3/lib/python3.12/site-packages (from openpyxl) (2.0.0)\r\n",
      "Requirement already satisfied: contourpy>=1.0.1 in /home/semyon/miniconda3/lib/python3.12/site-packages (from matplotlib) (1.3.1)\r\n",
      "Requirement already satisfied: cycler>=0.10 in /home/semyon/miniconda3/lib/python3.12/site-packages (from matplotlib) (0.12.1)\r\n",
      "Requirement already satisfied: fonttools>=4.22.0 in /home/semyon/miniconda3/lib/python3.12/site-packages (from matplotlib) (4.56.0)\r\n",
      "Requirement already satisfied: kiwisolver>=1.3.1 in /home/semyon/miniconda3/lib/python3.12/site-packages (from matplotlib) (1.4.8)\r\n",
      "Requirement already satisfied: numpy>=1.23 in /home/semyon/miniconda3/lib/python3.12/site-packages (from matplotlib) (2.2.3)\r\n",
      "Requirement already satisfied: packaging>=20.0 in /home/semyon/miniconda3/lib/python3.12/site-packages (from matplotlib) (24.1)\r\n",
      "Requirement already satisfied: pillow>=8 in /home/semyon/miniconda3/lib/python3.12/site-packages (from matplotlib) (11.1.0)\r\n",
      "Requirement already satisfied: pyparsing>=2.3.1 in /home/semyon/miniconda3/lib/python3.12/site-packages (from matplotlib) (3.2.1)\r\n",
      "Requirement already satisfied: python-dateutil>=2.7 in /home/semyon/miniconda3/lib/python3.12/site-packages (from matplotlib) (2.9.0.post0)\r\n",
      "Requirement already satisfied: six>=1.5 in /home/semyon/miniconda3/lib/python3.12/site-packages (from python-dateutil>=2.7->matplotlib) (1.17.0)\r\n"
     ]
    }
   ],
   "execution_count": 139
  },
  {
   "metadata": {
    "collapsed": true,
    "ExecuteTime": {
     "end_time": "2025-03-04T01:48:26.755435Z",
     "start_time": "2025-03-04T01:48:26.750593Z"
    }
   },
   "cell_type": "code",
   "source": [
    "import numpy as np\n",
    "import pandas as pd\n",
    "import matplotlib.pyplot as plt"
   ],
   "id": "initial_id",
   "outputs": [],
   "execution_count": 140
  },
  {
   "metadata": {
    "ExecuteTime": {
     "end_time": "2025-03-04T01:48:26.812753Z",
     "start_time": "2025-03-04T01:48:26.805936Z"
    }
   },
   "cell_type": "code",
   "source": [
    "np.random.seed(1)\n",
    "n = 1000\n",
    "dates = pd.date_range(start='2045-01-01', periods=n, freq='D')\n",
    "products = ['Tablet', 'Camera', 'Phone']\n",
    "prices = np.round(np.random.uniform(50, 200, n), 2)\n",
    "quantities = np.random.randint(1, 15, n)\n",
    "data = {\n",
    "    'date': dates,\n",
    "    'product': np.random.choice(products, n),\n",
    "    'price': prices,\n",
    "    'quantities': quantities,\n",
    "}"
   ],
   "id": "58ebd0bddf90bac6",
   "outputs": [],
   "execution_count": 141
  },
  {
   "metadata": {
    "ExecuteTime": {
     "end_time": "2025-03-04T01:48:26.883889Z",
     "start_time": "2025-03-04T01:48:26.870663Z"
    }
   },
   "cell_type": "code",
   "source": [
    "df = pd.DataFrame(data)\n",
    "df.head()"
   ],
   "id": "c3988858a47e89e8",
   "outputs": [
    {
     "data": {
      "text/plain": [
       "        date product   price  quantities\n",
       "0 2045-01-01   Phone  112.55          14\n",
       "1 2045-01-02  Tablet  158.05           8\n",
       "2 2045-01-03   Phone   50.02           7\n",
       "3 2045-01-04  Camera   95.35           8\n",
       "4 2045-01-05   Phone   72.01          13"
      ],
      "text/html": [
       "<div>\n",
       "<style scoped>\n",
       "    .dataframe tbody tr th:only-of-type {\n",
       "        vertical-align: middle;\n",
       "    }\n",
       "\n",
       "    .dataframe tbody tr th {\n",
       "        vertical-align: top;\n",
       "    }\n",
       "\n",
       "    .dataframe thead th {\n",
       "        text-align: right;\n",
       "    }\n",
       "</style>\n",
       "<table border=\"1\" class=\"dataframe\">\n",
       "  <thead>\n",
       "    <tr style=\"text-align: right;\">\n",
       "      <th></th>\n",
       "      <th>date</th>\n",
       "      <th>product</th>\n",
       "      <th>price</th>\n",
       "      <th>quantities</th>\n",
       "    </tr>\n",
       "  </thead>\n",
       "  <tbody>\n",
       "    <tr>\n",
       "      <th>0</th>\n",
       "      <td>2045-01-01</td>\n",
       "      <td>Phone</td>\n",
       "      <td>112.55</td>\n",
       "      <td>14</td>\n",
       "    </tr>\n",
       "    <tr>\n",
       "      <th>1</th>\n",
       "      <td>2045-01-02</td>\n",
       "      <td>Tablet</td>\n",
       "      <td>158.05</td>\n",
       "      <td>8</td>\n",
       "    </tr>\n",
       "    <tr>\n",
       "      <th>2</th>\n",
       "      <td>2045-01-03</td>\n",
       "      <td>Phone</td>\n",
       "      <td>50.02</td>\n",
       "      <td>7</td>\n",
       "    </tr>\n",
       "    <tr>\n",
       "      <th>3</th>\n",
       "      <td>2045-01-04</td>\n",
       "      <td>Camera</td>\n",
       "      <td>95.35</td>\n",
       "      <td>8</td>\n",
       "    </tr>\n",
       "    <tr>\n",
       "      <th>4</th>\n",
       "      <td>2045-01-05</td>\n",
       "      <td>Phone</td>\n",
       "      <td>72.01</td>\n",
       "      <td>13</td>\n",
       "    </tr>\n",
       "  </tbody>\n",
       "</table>\n",
       "</div>"
      ]
     },
     "execution_count": 142,
     "metadata": {},
     "output_type": "execute_result"
    }
   ],
   "execution_count": 142
  },
  {
   "metadata": {
    "ExecuteTime": {
     "end_time": "2025-03-04T01:48:26.961662Z",
     "start_time": "2025-03-04T01:48:26.957311Z"
    }
   },
   "cell_type": "code",
   "source": "df.to_csv('random_sales.csv', index=False)",
   "id": "4cb7b1e676de1a75",
   "outputs": [],
   "execution_count": 143
  },
  {
   "metadata": {
    "ExecuteTime": {
     "end_time": "2025-03-04T01:48:27.028949Z",
     "start_time": "2025-03-04T01:48:27.015978Z"
    }
   },
   "cell_type": "code",
   "source": [
    "new_df = pd.read_csv('random_sales.csv', parse_dates=['date'])  # also we could reassign variable df\n",
    "new_df"
   ],
   "id": "9ade71840a4bb2a8",
   "outputs": [
    {
     "data": {
      "text/plain": [
       "          date product   price  quantities\n",
       "0   2045-01-01   Phone  112.55          14\n",
       "1   2045-01-02  Tablet  158.05           8\n",
       "2   2045-01-03   Phone   50.02           7\n",
       "3   2045-01-04  Camera   95.35           8\n",
       "4   2045-01-05   Phone   72.01          13\n",
       "..         ...     ...     ...         ...\n",
       "995 2047-09-23  Camera  196.16           5\n",
       "996 2047-09-24  Tablet   96.76           6\n",
       "997 2047-09-25   Phone  150.32          10\n",
       "998 2047-09-26   Phone   98.90           6\n",
       "999 2047-09-27  Tablet  166.17           3\n",
       "\n",
       "[1000 rows x 4 columns]"
      ],
      "text/html": [
       "<div>\n",
       "<style scoped>\n",
       "    .dataframe tbody tr th:only-of-type {\n",
       "        vertical-align: middle;\n",
       "    }\n",
       "\n",
       "    .dataframe tbody tr th {\n",
       "        vertical-align: top;\n",
       "    }\n",
       "\n",
       "    .dataframe thead th {\n",
       "        text-align: right;\n",
       "    }\n",
       "</style>\n",
       "<table border=\"1\" class=\"dataframe\">\n",
       "  <thead>\n",
       "    <tr style=\"text-align: right;\">\n",
       "      <th></th>\n",
       "      <th>date</th>\n",
       "      <th>product</th>\n",
       "      <th>price</th>\n",
       "      <th>quantities</th>\n",
       "    </tr>\n",
       "  </thead>\n",
       "  <tbody>\n",
       "    <tr>\n",
       "      <th>0</th>\n",
       "      <td>2045-01-01</td>\n",
       "      <td>Phone</td>\n",
       "      <td>112.55</td>\n",
       "      <td>14</td>\n",
       "    </tr>\n",
       "    <tr>\n",
       "      <th>1</th>\n",
       "      <td>2045-01-02</td>\n",
       "      <td>Tablet</td>\n",
       "      <td>158.05</td>\n",
       "      <td>8</td>\n",
       "    </tr>\n",
       "    <tr>\n",
       "      <th>2</th>\n",
       "      <td>2045-01-03</td>\n",
       "      <td>Phone</td>\n",
       "      <td>50.02</td>\n",
       "      <td>7</td>\n",
       "    </tr>\n",
       "    <tr>\n",
       "      <th>3</th>\n",
       "      <td>2045-01-04</td>\n",
       "      <td>Camera</td>\n",
       "      <td>95.35</td>\n",
       "      <td>8</td>\n",
       "    </tr>\n",
       "    <tr>\n",
       "      <th>4</th>\n",
       "      <td>2045-01-05</td>\n",
       "      <td>Phone</td>\n",
       "      <td>72.01</td>\n",
       "      <td>13</td>\n",
       "    </tr>\n",
       "    <tr>\n",
       "      <th>...</th>\n",
       "      <td>...</td>\n",
       "      <td>...</td>\n",
       "      <td>...</td>\n",
       "      <td>...</td>\n",
       "    </tr>\n",
       "    <tr>\n",
       "      <th>995</th>\n",
       "      <td>2047-09-23</td>\n",
       "      <td>Camera</td>\n",
       "      <td>196.16</td>\n",
       "      <td>5</td>\n",
       "    </tr>\n",
       "    <tr>\n",
       "      <th>996</th>\n",
       "      <td>2047-09-24</td>\n",
       "      <td>Tablet</td>\n",
       "      <td>96.76</td>\n",
       "      <td>6</td>\n",
       "    </tr>\n",
       "    <tr>\n",
       "      <th>997</th>\n",
       "      <td>2047-09-25</td>\n",
       "      <td>Phone</td>\n",
       "      <td>150.32</td>\n",
       "      <td>10</td>\n",
       "    </tr>\n",
       "    <tr>\n",
       "      <th>998</th>\n",
       "      <td>2047-09-26</td>\n",
       "      <td>Phone</td>\n",
       "      <td>98.90</td>\n",
       "      <td>6</td>\n",
       "    </tr>\n",
       "    <tr>\n",
       "      <th>999</th>\n",
       "      <td>2047-09-27</td>\n",
       "      <td>Tablet</td>\n",
       "      <td>166.17</td>\n",
       "      <td>3</td>\n",
       "    </tr>\n",
       "  </tbody>\n",
       "</table>\n",
       "<p>1000 rows × 4 columns</p>\n",
       "</div>"
      ]
     },
     "execution_count": 144,
     "metadata": {},
     "output_type": "execute_result"
    }
   ],
   "execution_count": 144
  },
  {
   "metadata": {
    "ExecuteTime": {
     "end_time": "2025-03-04T01:48:27.194487Z",
     "start_time": "2025-03-04T01:48:27.094503Z"
    }
   },
   "cell_type": "code",
   "source": "df.to_excel('sales_data.xlsx')  # excel",
   "id": "2f596609e930b61e",
   "outputs": [],
   "execution_count": 145
  },
  {
   "metadata": {
    "ExecuteTime": {
     "end_time": "2025-03-04T01:48:27.208714Z",
     "start_time": "2025-03-04T01:48:27.206773Z"
    }
   },
   "cell_type": "code",
   "source": "df.to_json('sales_data.json')  # json",
   "id": "6be0ed7a177ab30b",
   "outputs": [],
   "execution_count": 146
  },
  {
   "metadata": {
    "ExecuteTime": {
     "end_time": "2025-03-04T01:48:27.297433Z",
     "start_time": "2025-03-04T01:48:27.281944Z"
    }
   },
   "cell_type": "code",
   "source": "df.describe()",
   "id": "5279b16bd42c8631",
   "outputs": [
    {
     "data": {
      "text/plain": [
       "                                date        price  quantities\n",
       "count                           1000  1000.000000  1000.00000\n",
       "mean   2046-05-15 11:59:59.999999488   125.090560     7.28100\n",
       "min              2045-01-01 00:00:00    50.020000     1.00000\n",
       "25%              2045-09-07 18:00:00    87.787500     4.00000\n",
       "50%              2046-05-15 12:00:00   126.125000     7.00000\n",
       "75%              2047-01-20 06:00:00   162.597500    11.00000\n",
       "max              2047-09-27 00:00:00   199.600000    14.00000\n",
       "std                              NaN    43.275088     4.03464"
      ],
      "text/html": [
       "<div>\n",
       "<style scoped>\n",
       "    .dataframe tbody tr th:only-of-type {\n",
       "        vertical-align: middle;\n",
       "    }\n",
       "\n",
       "    .dataframe tbody tr th {\n",
       "        vertical-align: top;\n",
       "    }\n",
       "\n",
       "    .dataframe thead th {\n",
       "        text-align: right;\n",
       "    }\n",
       "</style>\n",
       "<table border=\"1\" class=\"dataframe\">\n",
       "  <thead>\n",
       "    <tr style=\"text-align: right;\">\n",
       "      <th></th>\n",
       "      <th>date</th>\n",
       "      <th>price</th>\n",
       "      <th>quantities</th>\n",
       "    </tr>\n",
       "  </thead>\n",
       "  <tbody>\n",
       "    <tr>\n",
       "      <th>count</th>\n",
       "      <td>1000</td>\n",
       "      <td>1000.000000</td>\n",
       "      <td>1000.00000</td>\n",
       "    </tr>\n",
       "    <tr>\n",
       "      <th>mean</th>\n",
       "      <td>2046-05-15 11:59:59.999999488</td>\n",
       "      <td>125.090560</td>\n",
       "      <td>7.28100</td>\n",
       "    </tr>\n",
       "    <tr>\n",
       "      <th>min</th>\n",
       "      <td>2045-01-01 00:00:00</td>\n",
       "      <td>50.020000</td>\n",
       "      <td>1.00000</td>\n",
       "    </tr>\n",
       "    <tr>\n",
       "      <th>25%</th>\n",
       "      <td>2045-09-07 18:00:00</td>\n",
       "      <td>87.787500</td>\n",
       "      <td>4.00000</td>\n",
       "    </tr>\n",
       "    <tr>\n",
       "      <th>50%</th>\n",
       "      <td>2046-05-15 12:00:00</td>\n",
       "      <td>126.125000</td>\n",
       "      <td>7.00000</td>\n",
       "    </tr>\n",
       "    <tr>\n",
       "      <th>75%</th>\n",
       "      <td>2047-01-20 06:00:00</td>\n",
       "      <td>162.597500</td>\n",
       "      <td>11.00000</td>\n",
       "    </tr>\n",
       "    <tr>\n",
       "      <th>max</th>\n",
       "      <td>2047-09-27 00:00:00</td>\n",
       "      <td>199.600000</td>\n",
       "      <td>14.00000</td>\n",
       "    </tr>\n",
       "    <tr>\n",
       "      <th>std</th>\n",
       "      <td>NaN</td>\n",
       "      <td>43.275088</td>\n",
       "      <td>4.03464</td>\n",
       "    </tr>\n",
       "  </tbody>\n",
       "</table>\n",
       "</div>"
      ]
     },
     "execution_count": 147,
     "metadata": {},
     "output_type": "execute_result"
    }
   ],
   "execution_count": 147
  },
  {
   "metadata": {
    "ExecuteTime": {
     "end_time": "2025-03-04T01:48:27.381094Z",
     "start_time": "2025-03-04T01:48:27.376046Z"
    }
   },
   "cell_type": "code",
   "source": "df.values",
   "id": "f9b104763025b614",
   "outputs": [
    {
     "data": {
      "text/plain": [
       "array([[Timestamp('2045-01-01 00:00:00'), 'Phone', 112.55, 14],\n",
       "       [Timestamp('2045-01-02 00:00:00'), 'Tablet', 158.05, 8],\n",
       "       [Timestamp('2045-01-03 00:00:00'), 'Phone', 50.02, 7],\n",
       "       ...,\n",
       "       [Timestamp('2047-09-25 00:00:00'), 'Phone', 150.32, 10],\n",
       "       [Timestamp('2047-09-26 00:00:00'), 'Phone', 98.9, 6],\n",
       "       [Timestamp('2047-09-27 00:00:00'), 'Tablet', 166.17, 3]],\n",
       "      shape=(1000, 4), dtype=object)"
      ]
     },
     "execution_count": 148,
     "metadata": {},
     "output_type": "execute_result"
    }
   ],
   "execution_count": 148
  },
  {
   "metadata": {
    "ExecuteTime": {
     "end_time": "2025-03-04T01:48:27.463832Z",
     "start_time": "2025-03-04T01:48:27.460780Z"
    }
   },
   "cell_type": "code",
   "source": "df.index",
   "id": "f8d464119c76922d",
   "outputs": [
    {
     "data": {
      "text/plain": [
       "RangeIndex(start=0, stop=1000, step=1)"
      ]
     },
     "execution_count": 149,
     "metadata": {},
     "output_type": "execute_result"
    }
   ],
   "execution_count": 149
  },
  {
   "metadata": {
    "ExecuteTime": {
     "end_time": "2025-03-04T01:48:27.629872Z",
     "start_time": "2025-03-04T01:48:27.626438Z"
    }
   },
   "cell_type": "code",
   "source": [
    "products_sales = df.groupby('product')['quantities'].sum()\n",
    "products_sales"
   ],
   "id": "4a5397811499fd58",
   "outputs": [
    {
     "data": {
      "text/plain": [
       "product\n",
       "Camera    2461\n",
       "Phone     2436\n",
       "Tablet    2384\n",
       "Name: quantities, dtype: int64"
      ]
     },
     "execution_count": 150,
     "metadata": {},
     "output_type": "execute_result"
    }
   ],
   "execution_count": 150
  },
  {
   "metadata": {
    "ExecuteTime": {
     "end_time": "2025-03-04T01:48:27.714027Z",
     "start_time": "2025-03-04T01:48:27.710477Z"
    }
   },
   "cell_type": "code",
   "source": [
    "average_sales = df.groupby('product')['price'].mean()\n",
    "average_sales"
   ],
   "id": "f5b17345b2ba5c3c",
   "outputs": [
    {
     "data": {
      "text/plain": [
       "product\n",
       "Camera    123.840199\n",
       "Phone     124.764112\n",
       "Tablet    126.748079\n",
       "Name: price, dtype: float64"
      ]
     },
     "execution_count": 151,
     "metadata": {},
     "output_type": "execute_result"
    }
   ],
   "execution_count": 151
  },
  {
   "metadata": {},
   "cell_type": "markdown",
   "source": "# visualisation\n",
   "id": "30ff5c437eff88ef"
  },
  {
   "metadata": {
    "ExecuteTime": {
     "end_time": "2025-03-04T01:48:27.781221Z",
     "start_time": "2025-03-04T01:48:27.776471Z"
    }
   },
   "cell_type": "code",
   "source": "print(products_sales.values)",
   "id": "2be91c03b6e167a9",
   "outputs": [
    {
     "name": "stdout",
     "output_type": "stream",
     "text": [
      "[2461 2436 2384]\n"
     ]
    }
   ],
   "execution_count": 152
  },
  {
   "metadata": {
    "ExecuteTime": {
     "end_time": "2025-03-04T01:48:27.914561Z",
     "start_time": "2025-03-04T01:48:27.909543Z"
    }
   },
   "cell_type": "code",
   "source": "print(products_sales.index)",
   "id": "3d4c07e57453f545",
   "outputs": [
    {
     "name": "stdout",
     "output_type": "stream",
     "text": [
      "Index(['Camera', 'Phone', 'Tablet'], dtype='object', name='product')\n"
     ]
    }
   ],
   "execution_count": 153
  },
  {
   "metadata": {
    "ExecuteTime": {
     "end_time": "2025-03-04T01:53:14.782384Z",
     "start_time": "2025-03-04T01:53:14.725299Z"
    }
   },
   "cell_type": "code",
   "source": [
    "plt.bar(products_sales.index, products_sales.values, color=['green'])\n",
    "plt.title('total sales per product')\n",
    "plt.xlabel('product')\n",
    "plt.ylabel('total sales')\n",
    "plt.show()"
   ],
   "id": "90d10ea63fca620c",
   "outputs": [
    {
     "data": {
      "text/plain": [
       "<Figure size 640x480 with 1 Axes>"
      ],
      "image/png": "[encoded data removed]"
     },
     "metadata": {},
     "output_type": "display_data"
    }
   ],
   "execution_count": 160
  },
  {
   "metadata": {
    "ExecuteTime": {
     "end_time": "2025-03-04T01:56:22.541296Z",
     "start_time": "2025-03-04T01:56:22.489310Z"
    }
   },
   "cell_type": "code",
   "source": [
    "plt.bar(average_sales.index, average_sales.values, color=['red'])\n",
    "plt.title('product')\n",
    "plt.xlabel('average price')\n",
    "plt.ylabel('average price per product')\n",
    "plt.show()"
   ],
   "id": "eca6075ff7666411",
   "outputs": [
    {
     "data": {
      "text/plain": [
       "<Figure size 640x480 with 1 Axes>"
      ],
      "image/png": "[encoded data removed]"
     },
     "metadata": {},
     "output_type": "display_data"
    }
   ],
   "execution_count": 167
  }
 ],
 "metadata": {
  "kernelspec": {
   "display_name": "Python 3",
   "language": "python",
   "name": "python3"
  },
  "language_info": {
   "codemirror_mode": {
    "name": "ipython",
    "version": 2
   },
   "file_extension": ".py",
   "mimetype": "text/x-python",
   "name": "python",
   "nbconvert_exporter": "python",
   "pygments_lexer": "ipython2",
   "version": "2.7.6"
  }
 },
 "nbformat": 4,
 "nbformat_minor": 5
}
