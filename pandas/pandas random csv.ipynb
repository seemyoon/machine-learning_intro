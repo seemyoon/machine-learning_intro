{
 "cells": [
  {
   "cell_type": "code",
   "id": "initial_id",
   "metadata": {
    "collapsed": true,
    "ExecuteTime": {
     "end_time": "2025-03-03T23:53:24.058239Z",
     "start_time": "2025-03-03T23:53:24.055881Z"
    }
   },
   "source": [
    "import numpy as np\n",
    "import pandas as pd"
   ],
   "outputs": [],
   "execution_count": 102
  },
  {
   "metadata": {
    "ExecuteTime": {
     "end_time": "2025-03-03T23:53:24.071976Z",
     "start_time": "2025-03-03T23:53:24.069453Z"
    }
   },
   "cell_type": "code",
   "source": [
    "np.random.seed(1)\n",
    "n = 1000\n",
    "dates = pd.date_range(start='2045-01-01', periods=n, freq='D')\n",
    "products = ['Tablet', 'Camera', 'Phone']\n",
    "prices = np.round(np.random.uniform(50, 200, n), 2)\n",
    "quantities = np.random.randint(1, 15, n)\n",
    "data = {\n",
    "    'date': dates,\n",
    "    'product': np.random.choice(products, n),\n",
    "    'price': prices,\n",
    "    'quantities': quantities,\n",
    "}"
   ],
   "id": "58ebd0bddf90bac6",
   "outputs": [],
   "execution_count": 103
  },
  {
   "metadata": {
    "ExecuteTime": {
     "end_time": "2025-03-03T23:53:24.142518Z",
     "start_time": "2025-03-03T23:53:24.127430Z"
    }
   },
   "cell_type": "code",
   "source": [
    "df = pd.DataFrame(data)\n",
    "df.head()"
   ],
   "id": "c3988858a47e89e8",
   "outputs": [
    {
     "data": {
      "text/plain": [
       "        date product   price  quantities\n",
       "0 2045-01-01   Phone  112.55          14\n",
       "1 2045-01-02  Tablet  158.05           8\n",
       "2 2045-01-03   Phone   50.02           7\n",
       "3 2045-01-04  Camera   95.35           8\n",
       "4 2045-01-05   Phone   72.01          13"
      ],
      "text/html": [
       "<div>\n",
       "<style scoped>\n",
       "    .dataframe tbody tr th:only-of-type {\n",
       "        vertical-align: middle;\n",
       "    }\n",
       "\n",
       "    .dataframe tbody tr th {\n",
       "        vertical-align: top;\n",
       "    }\n",
       "\n",
       "    .dataframe thead th {\n",
       "        text-align: right;\n",
       "    }\n",
       "</style>\n",
       "<table border=\"1\" class=\"dataframe\">\n",
       "  <thead>\n",
       "    <tr style=\"text-align: right;\">\n",
       "      <th></th>\n",
       "      <th>date</th>\n",
       "      <th>product</th>\n",
       "      <th>price</th>\n",
       "      <th>quantities</th>\n",
       "    </tr>\n",
       "  </thead>\n",
       "  <tbody>\n",
       "    <tr>\n",
       "      <th>0</th>\n",
       "      <td>2045-01-01</td>\n",
       "      <td>Phone</td>\n",
       "      <td>112.55</td>\n",
       "      <td>14</td>\n",
       "    </tr>\n",
       "    <tr>\n",
       "      <th>1</th>\n",
       "      <td>2045-01-02</td>\n",
       "      <td>Tablet</td>\n",
       "      <td>158.05</td>\n",
       "      <td>8</td>\n",
       "    </tr>\n",
       "    <tr>\n",
       "      <th>2</th>\n",
       "      <td>2045-01-03</td>\n",
       "      <td>Phone</td>\n",
       "      <td>50.02</td>\n",
       "      <td>7</td>\n",
       "    </tr>\n",
       "    <tr>\n",
       "      <th>3</th>\n",
       "      <td>2045-01-04</td>\n",
       "      <td>Camera</td>\n",
       "      <td>95.35</td>\n",
       "      <td>8</td>\n",
       "    </tr>\n",
       "    <tr>\n",
       "      <th>4</th>\n",
       "      <td>2045-01-05</td>\n",
       "      <td>Phone</td>\n",
       "      <td>72.01</td>\n",
       "      <td>13</td>\n",
       "    </tr>\n",
       "  </tbody>\n",
       "</table>\n",
       "</div>"
      ]
     },
     "execution_count": 104,
     "metadata": {},
     "output_type": "execute_result"
    }
   ],
   "execution_count": 104
  },
  {
   "metadata": {
    "ExecuteTime": {
     "end_time": "2025-03-03T23:53:24.218696Z",
     "start_time": "2025-03-03T23:53:24.215125Z"
    }
   },
   "cell_type": "code",
   "source": "df.to_csv('random_sales.csv', index=False)",
   "id": "4cb7b1e676de1a75",
   "outputs": [],
   "execution_count": 105
  },
  {
   "metadata": {
    "ExecuteTime": {
     "end_time": "2025-03-03T23:55:32.711631Z",
     "start_time": "2025-03-03T23:55:32.690600Z"
    }
   },
   "cell_type": "code",
   "source": [
    "new_df = pd.read_csv('random_sales.csv', parse_dates=['date'])  # also we could reassign variable df\n",
    "new_df"
   ],
   "id": "9ade71840a4bb2a8",
   "outputs": [
    {
     "data": {
      "text/plain": [
       "          date product   price  quantities\n",
       "0   2045-01-01   Phone  112.55          14\n",
       "1   2045-01-02  Tablet  158.05           8\n",
       "2   2045-01-03   Phone   50.02           7\n",
       "3   2045-01-04  Camera   95.35           8\n",
       "4   2045-01-05   Phone   72.01          13\n",
       "..         ...     ...     ...         ...\n",
       "995 2047-09-23  Camera  196.16           5\n",
       "996 2047-09-24  Tablet   96.76           6\n",
       "997 2047-09-25   Phone  150.32          10\n",
       "998 2047-09-26   Phone   98.90           6\n",
       "999 2047-09-27  Tablet  166.17           3\n",
       "\n",
       "[1000 rows x 4 columns]"
      ],
      "text/html": [
       "<div>\n",
       "<style scoped>\n",
       "    .dataframe tbody tr th:only-of-type {\n",
       "        vertical-align: middle;\n",
       "    }\n",
       "\n",
       "    .dataframe tbody tr th {\n",
       "        vertical-align: top;\n",
       "    }\n",
       "\n",
       "    .dataframe thead th {\n",
       "        text-align: right;\n",
       "    }\n",
       "</style>\n",
       "<table border=\"1\" class=\"dataframe\">\n",
       "  <thead>\n",
       "    <tr style=\"text-align: right;\">\n",
       "      <th></th>\n",
       "      <th>date</th>\n",
       "      <th>product</th>\n",
       "      <th>price</th>\n",
       "      <th>quantities</th>\n",
       "    </tr>\n",
       "  </thead>\n",
       "  <tbody>\n",
       "    <tr>\n",
       "      <th>0</th>\n",
       "      <td>2045-01-01</td>\n",
       "      <td>Phone</td>\n",
       "      <td>112.55</td>\n",
       "      <td>14</td>\n",
       "    </tr>\n",
       "    <tr>\n",
       "      <th>1</th>\n",
       "      <td>2045-01-02</td>\n",
       "      <td>Tablet</td>\n",
       "      <td>158.05</td>\n",
       "      <td>8</td>\n",
       "    </tr>\n",
       "    <tr>\n",
       "      <th>2</th>\n",
       "      <td>2045-01-03</td>\n",
       "      <td>Phone</td>\n",
       "      <td>50.02</td>\n",
       "      <td>7</td>\n",
       "    </tr>\n",
       "    <tr>\n",
       "      <th>3</th>\n",
       "      <td>2045-01-04</td>\n",
       "      <td>Camera</td>\n",
       "      <td>95.35</td>\n",
       "      <td>8</td>\n",
       "    </tr>\n",
       "    <tr>\n",
       "      <th>4</th>\n",
       "      <td>2045-01-05</td>\n",
       "      <td>Phone</td>\n",
       "      <td>72.01</td>\n",
       "      <td>13</td>\n",
       "    </tr>\n",
       "    <tr>\n",
       "      <th>...</th>\n",
       "      <td>...</td>\n",
       "      <td>...</td>\n",
       "      <td>...</td>\n",
       "      <td>...</td>\n",
       "    </tr>\n",
       "    <tr>\n",
       "      <th>995</th>\n",
       "      <td>2047-09-23</td>\n",
       "      <td>Camera</td>\n",
       "      <td>196.16</td>\n",
       "      <td>5</td>\n",
       "    </tr>\n",
       "    <tr>\n",
       "      <th>996</th>\n",
       "      <td>2047-09-24</td>\n",
       "      <td>Tablet</td>\n",
       "      <td>96.76</td>\n",
       "      <td>6</td>\n",
       "    </tr>\n",
       "    <tr>\n",
       "      <th>997</th>\n",
       "      <td>2047-09-25</td>\n",
       "      <td>Phone</td>\n",
       "      <td>150.32</td>\n",
       "      <td>10</td>\n",
       "    </tr>\n",
       "    <tr>\n",
       "      <th>998</th>\n",
       "      <td>2047-09-26</td>\n",
       "      <td>Phone</td>\n",
       "      <td>98.90</td>\n",
       "      <td>6</td>\n",
       "    </tr>\n",
       "    <tr>\n",
       "      <th>999</th>\n",
       "      <td>2047-09-27</td>\n",
       "      <td>Tablet</td>\n",
       "      <td>166.17</td>\n",
       "      <td>3</td>\n",
       "    </tr>\n",
       "  </tbody>\n",
       "</table>\n",
       "<p>1000 rows × 4 columns</p>\n",
       "</div>"
      ]
     },
     "execution_count": 115,
     "metadata": {},
     "output_type": "execute_result"
    }
   ],
   "execution_count": 115
  },
  {
   "metadata": {},
   "cell_type": "code",
   "outputs": [],
   "execution_count": null,
   "source": "df.to_excel('sales_data.xlsx') # excel",
   "id": "2f596609e930b61e"
  },
  {
   "metadata": {},
   "cell_type": "code",
   "outputs": [],
   "execution_count": null,
   "source": "df.to_json('sales_data.json')  # json",
   "id": "6be0ed7a177ab30b"
  }
 ],
 "metadata": {
  "kernelspec": {
   "display_name": "Python 3",
   "language": "python",
   "name": "python3"
  },
  "language_info": {
   "codemirror_mode": {
    "name": "ipython",
    "version": 2
   },
   "file_extension": ".py",
   "mimetype": "text/x-python",
   "name": "python",
   "nbconvert_exporter": "python",
   "pygments_lexer": "ipython2",
   "version": "2.7.6"
  }
 },
 "nbformat": 4,
 "nbformat_minor": 5
}
